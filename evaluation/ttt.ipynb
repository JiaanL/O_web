{
 "cells": [
  {
   "cell_type": "code",
   "execution_count": 1,
   "metadata": {},
   "outputs": [
    {
     "name": "stdout",
     "output_type": "stream",
     "text": [
      "INFO: Pandarallel will run on 8 workers.\n",
      "INFO: Pandarallel will use standard multiprocessing data transfer (pipe) to transfer data between the main process and workers.\n"
     ]
    }
   ],
   "source": [
    "import pandas as pd\n",
    "import numpy as np\n",
    "import os\n",
    "\n",
    "import tqdm\n",
    "from collections import defaultdict\n",
    "from pandarallel import pandarallel\n",
    "import requests\n",
    "import json\n",
    "from matplotlib import pyplot as plt\n",
    "\n",
    "import pickle\n",
    "\n",
    "tqdm.tqdm.pandas()\n",
    "\n",
    "pandarallel.initialize(progress_bar=True)"
   ]
  },
  {
   "cell_type": "code",
   "execution_count": 3,
   "metadata": {},
   "outputs": [
    {
     "name": "stderr",
     "output_type": "stream",
     "text": [
      "  0%|          | 0/3 [00:00<?, ?it/s]\n",
      "  0%|          | 0/6 [00:00<?, ?it/s]\n"
     ]
    },
    {
     "data": {
      "text/plain": [
       "0     {\"block_num\": {\"mape\": 0.0031796029969028273, ...\n",
       "1     {\"block_num\": {\"mape\": 0.003588293823302368, \"...\n",
       "2     {\"block_num\": {\"mape\": 0.003536353144182423, \"...\n",
       "3     {\"block_num\": {\"mape\": 0.0032729534171599866, ...\n",
       "4     {\"block_num\": {\"mape\": 0.0028358716126795193, ...\n",
       "                            ...                        \n",
       "75    {\"block_num\": {\"mape\": 0.003885531257294703, \"...\n",
       "76    {\"block_num\": {\"mape\": 0.02745543687375259, \"m...\n",
       "77                                           IndexError\n",
       "78                                           IndexError\n",
       "79    {\"block_num\": {\"mape\": 0.03071193555084327, \"m...\n",
       "Length: 80, dtype: object"
      ]
     },
     "execution_count": 3,
     "metadata": {},
     "output_type": "execute_result"
    }
   ],
   "source": [
    "train_multiplier = [0.25, 0.5, 1, 2, 3, 4]\n",
    "# test_multiplier = [0.25, 0.5, 0.75, 1]\n",
    "test_multiplier = [2,3,4]\n",
    "for i in tqdm.tqdm(train_multiplier):\n",
    "    for j in tqdm.tqdm(test_multiplier):\n",
    "        train_block_num = int(6424 * i)# train\n",
    "        step_ahead = int(6424*j) # test\n",
    "        with open(f'../data/var_eval_{train_block_num}_{step_ahead}.pickle', 'rb') as handle:\n",
    "            eval_result = pickle.load(handle)\n",
    "        break\n",
    "    break\n",
    "eval_result"
   ]
  },
  {
   "cell_type": "code",
   "execution_count": 5,
   "metadata": {},
   "outputs": [
    {
     "name": "stderr",
     "output_type": "stream",
     "text": [
      "  0%|          | 0/4 [00:00<?, ?it/s]\n",
      "  0%|          | 0/6 [00:00<?, ?it/s]\n"
     ]
    },
    {
     "data": {
      "text/plain": [
       "0     {\"block_num\": {\"mape\": 0.00037829068486642414,...\n",
       "1     {\"block_num\": {\"mape\": 0.00043270067553371745,...\n",
       "2     {\"block_num\": {\"mape\": 0.00046645184759960725,...\n",
       "3     {\"block_num\": {\"mape\": 0.0004596468190448694, ...\n",
       "4     {\"block_num\": {\"mape\": 0.00039887139276202757,...\n",
       "                            ...                        \n",
       "75    {\"block_num\": {\"mape\": 0.00046561545327562727,...\n",
       "76    {\"block_num\": {\"mape\": 0.002208714348229242, \"...\n",
       "77    {\"block_num\": {\"mape\": 0.002512913071208386, \"...\n",
       "78    {\"block_num\": {\"mape\": 0.004177811365966176, \"...\n",
       "79    {\"block_num\": {\"mape\": 0.00412723142572003, \"m...\n",
       "Length: 80, dtype: object"
      ]
     },
     "execution_count": 5,
     "metadata": {},
     "output_type": "execute_result"
    }
   ],
   "source": [
    "train_multiplier = [0.25, 0.5, 1, 2, 3, 4]\n",
    "test_multiplier = [0.25, 0.5, 0.75, 1]\n",
    "# test_multiplier = [2,3,4]\n",
    "for i in tqdm.tqdm(train_multiplier):\n",
    "    for j in tqdm.tqdm(test_multiplier):\n",
    "        train_block_num = int(6424 * i)# train\n",
    "        step_ahead = int(6424*j) # test\n",
    "        with open(f'../data/ar_eval_{train_block_num}_{step_ahead}.pickle', 'rb') as handle:\n",
    "            eval_result = pickle.load(handle)\n",
    "        break\n",
    "    break\n",
    "eval_result"
   ]
  },
  {
   "cell_type": "code",
   "execution_count": 6,
   "metadata": {},
   "outputs": [
    {
     "data": {
      "text/plain": [
       "'{\"block_num\": {\"mape\": 0.00037829068486642414, \"me\": 5428.653418062099, \"mae\": 5428.653418062099, \"mpe\": 0.00037829068486642414, \"rmse\": 5429.515826624758}, \"uniswapv2_usdc_eth\": {\"mape\": 0.04093862807576937, \"me\": -1.561012261632238e-05, \"mae\": 1.561012261632238e-05, \"mpe\": -0.04093862807576937, \"rmse\": 1.7714018419985355e-05}, \"uniswapv2_usdt_eth\": {\"mape\": 0.04158130476605992, \"me\": -1.5848541465285496e-05, \"mae\": 1.5848541465285496e-05, \"mpe\": -0.04158130476605992, \"rmse\": 1.7922859648243383e-05}, \"uniswapv2_dai_eth\": {\"mape\": 0.042232949717043645, \"me\": -1.6108593257238012e-05, \"mae\": 1.6108593257238012e-05, \"mpe\": -0.042232949717043645, \"rmse\": 1.8096598861662816e-05}, \"uniswapv3_usdc_eth\": {\"mape\": 0.04322652964257295, \"me\": -1.645920517295188e-05, \"mae\": 1.645920517295188e-05, \"mpe\": -0.04322652964257295, \"rmse\": 1.8373670825361936e-05}, \"uniswapv3_usdt_eth\": {\"mape\": 0.043226009905196296, \"me\": -1.646204034719604e-05, \"mae\": 1.646204034719604e-05, \"mpe\": -0.043226009905196296, \"rmse\": 1.838234423971795e-05}, \"uniswapv3_dai_eth\": {\"mape\": 0.04217460511644822, \"me\": -1.608580745227861e-05, \"mae\": 1.608580745227861e-05, \"mpe\": -0.04217460511644822, \"rmse\": 1.827727351336868e-05}, \"chainlink_usdc_eth\": {\"mape\": 0.04487754289372413, \"me\": -1.7261547974533245e-05, \"mae\": 1.7417497498145964e-05, \"mpe\": -0.0444473639989261, \"rmse\": 2.015800998850911e-05}, \"chainlink_usdt_eth\": {\"mape\": 1.1021444664772642, \"me\": -0.0004271502370503199, \"mae\": 0.0004271505426550032, \"mpe\": -1.1021436779484506, \"rmse\": 0.0004934607246310564}, \"chainlink_dai_eth\": {\"mape\": 1.638339665177442, \"me\": 0.0006095313479016456, \"mae\": 0.0006098205835186176, \"mpe\": 1.6375938584571494, \"rmse\": 0.0007104475714797724}}'"
      ]
     },
     "execution_count": 6,
     "metadata": {},
     "output_type": "execute_result"
    }
   ],
   "source": [
    "eval_result[0]"
   ]
  }
 ],
 "metadata": {
  "kernelspec": {
   "display_name": "Python 3.8.12 ('test2')",
   "language": "python",
   "name": "python3"
  },
  "language_info": {
   "codemirror_mode": {
    "name": "ipython",
    "version": 3
   },
   "file_extension": ".py",
   "mimetype": "text/x-python",
   "name": "python",
   "nbconvert_exporter": "python",
   "pygments_lexer": "ipython3",
   "version": "3.8.12"
  },
  "orig_nbformat": 4,
  "vscode": {
   "interpreter": {
    "hash": "b0ef27b5998537e6e8a4cc2d81c0ef50c5704a9340d6613576e42e6548a03246"
   }
  }
 },
 "nbformat": 4,
 "nbformat_minor": 2
}
