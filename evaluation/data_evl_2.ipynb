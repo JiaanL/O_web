{
 "cells": [
  {
   "cell_type": "code",
   "execution_count": null,
   "metadata": {},
   "outputs": [],
   "source": [
    "import os\n",
    "import django\n",
    "os.environ.setdefault('DJANGO_SETTINGS_MODULE', 'rest.settings')\n",
    "os.environ[\"DJANGO_ALLOW_ASYNC_UNSAFE\"] = \"true\"\n",
    "django.setup()\n",
    "\n",
    "import pandas as pd\n",
    "import numpy as np\n",
    "import os\n",
    "import django\n",
    "from django.db.models import Max, Min, Avg, Q, F\n",
    "from asgiref.sync import sync_to_async\n",
    "import tqdm\n",
    "from collections import defaultdict\n",
    "from pandarallel import pandarallel\n",
    "import requests\n",
    "import json\n",
    "from matplotlib import pyplot as plt\n",
    "\n",
    "import ctypes\n",
    "from ctypes import c_char_p, cdll\n",
    "GoInt64 = ctypes.c_int64\n",
    "GoInt = GoInt64\n",
    "archive_node = \"http://localhost:19545\"\n",
    "\n",
    "from etherscan.utils.parsing import ResponseParser as parser\n",
    "pandarallel.initialize(progress_bar=True)\n",
    "# os.environ.setdefault('DJANGO_SETTINGS_MODULE', 'rest.settings')\n",
    "# os.environ[\"DJANGO_ALLOW_ASYNC_UNSAFE\"] = \"true\"\n",
    "# django.setup()\n",
    "\n",
    "from debtmonitor.models import *\n",
    "from datavisualization.models import *\n",
    "from datastorage.models import *\n",
    "from debtmonitor.help_function import *\n",
    "\n",
    "import debtmonitor.views as dm\n",
    "import datavisualization.views as dv\n",
    "import datastorage.views as ds\n",
    "import oracleWeb.views as ow\n",
    "\n",
    "from debtmonitor.debt_function import *\n",
    "\n",
    "import pickle\n",
    "\n",
    "tqdm.tqdm.pandas()\n",
    "\n",
    "pandarallel.initialize(progress_bar=True)"
   ]
  },
  {
   "cell_type": "code",
   "execution_count": null,
   "metadata": {},
   "outputs": [],
   "source": [
    "from debtmonitor.help_function import *\n",
    "\n",
    "\n",
    "def invert_transformation(df_train, df_forecast):\n",
    "    \"\"\"Revert back the differencing to get the forecast to original scale.\"\"\"\n",
    "    df_fc = df_forecast.copy()\n",
    "    columns = df_train.columns\n",
    "    for col in columns:        \n",
    "        # Roll back 1st Diff\n",
    "        df_fc[str(col)] = (df_train[col].iloc[-1] + df_fc[col].cumsum()) # np.exp(df_train[col].iloc[-1] + df_fc[col].cumsum())\n",
    "    return df_fc\n",
    "\n",
    "def reverse_tokens(df_row):\n",
    "    token0 = df_row['token0']\n",
    "    token1 = df_row['token1']\n",
    "    current = df_row['current']\n",
    "    df_row['token0'] = token1\n",
    "    df_row['token1'] = token0\n",
    "    df_row['current'] = 1.0/current\n",
    "    return df_row\n",
    "\n",
    "\n",
    "# Reference https://www.machinelearningplus.com/time-series/vector-autoregression-examples-python/\n",
    "from statsmodels.tsa.stattools import acf\n",
    "def forecast_accuracy(forecast, actual):\n",
    "    mape = np.mean(np.abs(forecast - actual)/np.abs(actual))  # MAPE\n",
    "    me = np.mean(forecast - actual)             # ME\n",
    "    mae = np.mean(np.abs(forecast - actual))    # MAE\n",
    "    mpe = np.mean((forecast - actual)/actual)   # MPE\n",
    "    rmse = np.mean((forecast - actual)**2)**.5  # RMSE\n",
    "    # corr = np.corrcoef(forecast, actual)[0,1]   # corr\n",
    "    # mins = np.amin(np.hstack([forecast[:,None], \n",
    "    #                           actual[:,None]]), axis=1)\n",
    "    # maxs = np.amax(np.hstack([forecast[:,None], \n",
    "    #                           actual[:,None]]), axis=1)\n",
    "    # minmax = 1 - np.mean(mins/maxs)             # minmax\n",
    "    return({'mape':mape, 'me':me, 'mae': mae, \n",
    "            'mpe': mpe, 'rmse':rmse,})# 'corr':corr, 'minmax':minmax})\n",
    "\n",
    "def train_n_evaluate(train_data, test_data):\n",
    "    try:\n",
    "        train_data_diff = train_data.diff().dropna().reset_index(drop=True)\n",
    "        model = get_var_result(train_data_diff, maxlags=None)\n",
    "        lag_order = model.k_ar\n",
    "        forecast_input = train_data_diff.values[-lag_order:]\n",
    "        price_diff_prediction = pd.DataFrame(\n",
    "            model.forecast(y=forecast_input, steps=test_data.shape[0]),\n",
    "            columns=train_data_diff.columns\n",
    "        )\n",
    "        # print(price_diff_prediction.shape)\n",
    "\n",
    "        price_prediction = invert_transformation(test_data, price_diff_prediction) \n",
    "        result_dict = {}\n",
    "        for i, j in zip(train_data.columns, test_data.columns):\n",
    "            assert i == j, 'ERROR, name mismatch'\n",
    "            # print(price_prediction[i].shape, test_data[j].shape)\n",
    "            result_dict[i] = forecast_accuracy(\n",
    "                price_prediction[i].values, \n",
    "                test_data[j].values\n",
    "            )\n",
    "\n",
    "        return json.dumps(result_dict)\n",
    "    except IndexError:\n",
    "        return 'IndexError'\n",
    "    except np.linalg.LinAlgError:\n",
    "        return 'np.LinAlgError'\n",
    "    \n",
    "def main(df, train_block_num, step_ahead):\n",
    "\n",
    "    main_result_dict = defaultdict(lambda:defaultdict(list))\n",
    "\n",
    "    train_from_list = []\n",
    "    train_to_list = []\n",
    "    test_from_list = []\n",
    "    test_to_list = []\n",
    "\n",
    "    split_num = 80\n",
    "    select_range = df.shape[0] - (step_ahead+train_block_num)\n",
    "    select_gap = select_range // split_num\n",
    "    for i in range(split_num):\n",
    "        train_from_list.append(i*select_gap)\n",
    "        train_to_list.append(i*select_gap + train_block_num)\n",
    "        test_from_list.append(i*select_gap + train_block_num)\n",
    "        test_to_list.append(i*select_gap + train_block_num + step_ahead)\n",
    "\n",
    "\n",
    "    # split_num = df.shape[0] // (step_ahead+train_block_num)\n",
    "    # for i in range(split_num):\n",
    "    #     train_from_list.append(i*(step_ahead+train_block_num))\n",
    "    #     train_to_list.append(i*(step_ahead+train_block_num)+train_block_num)\n",
    "    #     test_from_list.append(i*(step_ahead+train_block_num)+train_block_num)\n",
    "    #     test_to_list.append(i*(step_ahead+train_block_num)+step_ahead+train_block_num)\n",
    "    # for i in tqdm.tqdm(range(train_block_num, df.shape[0]-step_ahead)):\n",
    "    #     # train_data = df.iloc[i-train_block_num:i]\n",
    "    #     # test_data = df.iloc[i:i+step_ahead]\n",
    "    #     train_data_from = i-train_block_num\n",
    "    #     train_data_to = i\n",
    "    #     test_data_from = i\n",
    "    #     test_data_to = i+step_ahead\n",
    "    #     train_from_list.append(train_data_from)\n",
    "    #     train_to_list.append(train_data_to)\n",
    "    #     test_from_list.append(test_data_from)\n",
    "    #     test_to_list.append(test_data_to)\n",
    "\n",
    "    split_df = pd.DataFrame([train_from_list, train_to_list, test_from_list, test_to_list]).T\n",
    "    split_df.columns = ['train_from', 'train_to', 'test_from', 'test_to']\n",
    "\n",
    "    def inner_main(split_df_row):\n",
    "        train_data = df.iloc[split_df_row['train_from']:split_df_row['train_to']]\n",
    "        test_data = df.iloc[split_df_row['test_from']:split_df_row['test_to']]\n",
    "        return train_n_evaluate(train_data, test_data)\n",
    "    \n",
    "    return split_df.parallel_apply(inner_main, axis=1)"
   ]
  },
  {
   "cell_type": "code",
   "execution_count": null,
   "metadata": {},
   "outputs": [],
   "source": [
    "\n",
    "block_end = 14840000\n",
    "pre_block = 1000000\n",
    "block_start = 12980000#block_end - pre_block\n",
    "pre_block = block_end - block_start"
   ]
  },
  {
   "cell_type": "code",
   "execution_count": null,
   "metadata": {},
   "outputs": [],
   "source": [
    "\n",
    "raw_price_data = get_price_data(block_end, previous_block = pre_block)"
   ]
  },
  {
   "cell_type": "code",
   "execution_count": null,
   "metadata": {},
   "outputs": [],
   "source": [
    "price_data = raw_price_data.parallel_apply(reverse_tokens, axis=1)\n",
    "price_data = pd.concat([price_data, raw_price_data])\n",
    "price_data"
   ]
  },
  {
   "cell_type": "code",
   "execution_count": null,
   "metadata": {},
   "outputs": [],
   "source": [
    "all_combination = [\n",
    "    ['uniswapv2', 'usdc', 'eth'],\n",
    "    ['uniswapv2', 'usdt', 'eth'],\n",
    "    ['uniswapv2', 'dai', 'eth'],\n",
    "    ['uniswapv3', 'usdc', 'eth'],\n",
    "    ['uniswapv3', 'usdt', 'eth'],\n",
    "    ['uniswapv3', 'dai', 'eth'],\n",
    "    ['chainlink', 'usdc', 'eth'],\n",
    "    ['chainlink', 'usdt', 'eth'],\n",
    "    ['chainlink', 'dai', 'eth'],\n",
    "]\n",
    "data_list = []\n",
    "for combination_i in tqdm.tqdm(all_combination):\n",
    "    tmp_data = price_data[\n",
    "        (price_data['oracle_name']==combination_i[0]) &\n",
    "        (price_data['token0']==combination_i[1]) &\n",
    "        (price_data['token1']==combination_i[2])\n",
    "    ].copy()\n",
    "    tmp_data['_'.join(combination_i)] = tmp_data['current']\n",
    "    tmp_data = tmp_data[f\"block_num {'_'.join(combination_i)}\".split(' ')]\n",
    "    data_list.append(tmp_data)\n",
    "flat_df = pd.DataFrame(range(block_start, block_end), columns=['block_num'])\n",
    "# flat_df = data_list[0]\n",
    "for df in tqdm.tqdm(data_list):\n",
    "    flat_df = flat_df.merge(df, on='block_num', how='left')\n",
    "flat_df.set_index('block_num', inplace=True)\n",
    "flat_df.fillna(method='ffill', inplace=True)\n",
    "flat_df.fillna(method='bfill', inplace=True)\n",
    "flat_df.dropna(inplace=True)\n",
    "flat_df"
   ]
  },
  {
   "cell_type": "code",
   "execution_count": null,
   "metadata": {},
   "outputs": [],
   "source": [
    "flat_df.to_csv('../data/dataflat_df3.csv')"
   ]
  },
  {
   "cell_type": "code",
   "execution_count": null,
   "metadata": {},
   "outputs": [],
   "source": [
    "\n",
    "import pandas as pd\n",
    "import numpy as np\n",
    "import os\n",
    "\n",
    "import tqdm\n",
    "from collections import defaultdict\n",
    "from pandarallel import pandarallel\n",
    "import requests\n",
    "import json\n",
    "from matplotlib import pyplot as plt\n",
    "\n",
    "import pickle\n",
    "\n",
    "tqdm.tqdm.pandas()\n",
    "\n",
    "pandarallel.initialize(progress_bar=True)"
   ]
  },
  {
   "cell_type": "code",
   "execution_count": null,
   "metadata": {},
   "outputs": [],
   "source": [
    "flat_df = pd.read_csv('../data/dataflat_df3.csv')"
   ]
  },
  {
   "cell_type": "code",
   "execution_count": null,
   "metadata": {},
   "outputs": [],
   "source": [
    "flat_df.head()"
   ]
  },
  {
   "cell_type": "code",
   "execution_count": null,
   "metadata": {},
   "outputs": [],
   "source": [
    "from debtmonitor.help_function import *\n",
    "\n",
    "\n",
    "def invert_transformation(df_train, df_forecast):\n",
    "    \"\"\"Revert back the differencing to get the forecast to original scale.\"\"\"\n",
    "    df_fc = df_forecast.copy()\n",
    "    columns = df_train.columns\n",
    "    for col in columns:        \n",
    "        # Roll back 1st Diff\n",
    "        df_fc[str(col)] = (df_train[col].iloc[-1] + df_fc[col].cumsum()) # np.exp(df_train[col].iloc[-1] + df_fc[col].cumsum())\n",
    "    return df_fc\n",
    "\n",
    "def reverse_tokens(df_row):\n",
    "    token0 = df_row['token0']\n",
    "    token1 = df_row['token1']\n",
    "    current = df_row['current']\n",
    "    df_row['token0'] = token1\n",
    "    df_row['token1'] = token0\n",
    "    df_row['current'] = 1.0/current\n",
    "    return df_row\n",
    "\n",
    "\n",
    "# Reference https://www.machinelearningplus.com/time-series/vector-autoregression-examples-python/\n",
    "from statsmodels.tsa.stattools import acf\n",
    "def forecast_accuracy(forecast, actual):\n",
    "    mape = np.mean(np.abs(forecast - actual)/np.abs(actual))  # MAPE\n",
    "    me = np.mean(forecast - actual)             # ME\n",
    "    mae = np.mean(np.abs(forecast - actual))    # MAE\n",
    "    mpe = np.mean((forecast - actual)/actual)   # MPE\n",
    "    rmse = np.mean((forecast - actual)**2)**.5  # RMSE\n",
    "    # corr = np.corrcoef(forecast, actual)[0,1]   # corr\n",
    "    # mins = np.amin(np.hstack([forecast[:,None], \n",
    "    #                           actual[:,None]]), axis=1)\n",
    "    # maxs = np.amax(np.hstack([forecast[:,None], \n",
    "    #                           actual[:,None]]), axis=1)\n",
    "    # minmax = 1 - np.mean(mins/maxs)             # minmax\n",
    "    return({'mape':mape, 'me':me, 'mae': mae, \n",
    "            'mpe': mpe, 'rmse':rmse,})# 'corr':corr, 'minmax':minmax})\n",
    "\n",
    "def var_train_n_evaluate(train_data, test_data, maxlags=None):\n",
    "    try:\n",
    "        train_data_diff = train_data.diff().dropna().reset_index(drop=True)\n",
    "        model = get_var_result(train_data_diff, maxlags=maxlags)\n",
    "        lag_order = model.k_ar\n",
    "        forecast_input = train_data_diff.values[-lag_order:]\n",
    "        price_diff_prediction = pd.DataFrame(\n",
    "            model.forecast(y=forecast_input, steps=test_data.shape[0]),\n",
    "            columns=train_data_diff.columns\n",
    "        )\n",
    "        # print(price_diff_prediction.shape)\n",
    "\n",
    "        price_prediction = invert_transformation(train_data, price_diff_prediction) \n",
    "        result_dict = {}\n",
    "        for i, j in zip(train_data.columns, test_data.columns):\n",
    "            assert i == j, 'ERROR, name mismatch'\n",
    "            # print(price_prediction[i].shape, test_data[j].shape)\n",
    "            result_dict[i] = forecast_accuracy(\n",
    "                price_prediction[i].values, \n",
    "                test_data[j].values\n",
    "            )\n",
    "\n",
    "        return json.dumps(result_dict)\n",
    "    except IndexError:\n",
    "        return 'IndexError'\n",
    "    except np.linalg.LinAlgError:\n",
    "        return 'np.LinAlgError'\n",
    "\n",
    "def mean_train_n_evaluate(train_data, test_data):\n",
    "    try:\n",
    "        # train_data_diff = train_data.diff().dropna().reset_index(drop=True)\n",
    "        # model = get_var_result(train_data_diff, maxlags=None)\n",
    "        # lag_order = model.k_ar\n",
    "        # forecast_input = train_data_diff.values[-lag_order:]\n",
    "        # price_diff_prediction = pd.DataFrame(\n",
    "        #     model.forecast(y=forecast_input, steps=test_data.shape[0]),\n",
    "        #     columns=train_data_diff.columns\n",
    "        # )\n",
    "        # print(price_diff_prediction.shape)\n",
    "\n",
    "        price_prediction = test_data.copy()\n",
    "        for i in train_data.columns:\n",
    "            price_prediction[i] = train_data[i].mean()\n",
    "        result_dict = {}\n",
    "        for i, j in zip(train_data.columns, test_data.columns):\n",
    "            assert i == j, 'ERROR, name mismatch'\n",
    "            # print(price_prediction[i].shape, test_data[j].shape)\n",
    "            result_dict[i] = forecast_accuracy(\n",
    "                price_prediction[i].values, \n",
    "                test_data[j].values\n",
    "            )\n",
    "\n",
    "        return json.dumps(result_dict)\n",
    "    except IndexError:\n",
    "        return 'IndexError'\n",
    "    except np.linalg.LinAlgError:\n",
    "        return 'np.LinAlgError'\n",
    "\n",
    "def last_train_n_evaluate(train_data, test_data):\n",
    "    try:\n",
    "        price_prediction = test_data.copy()\n",
    "        for i in train_data.columns:\n",
    "            price_prediction[i] = train_data[i].iloc[-1]\n",
    "        result_dict = {}\n",
    "        for i, j in zip(train_data.columns, test_data.columns):\n",
    "            assert i == j, 'ERROR, name mismatch'\n",
    "            # print(price_prediction[i].shape, test_data[j].shape)\n",
    "            result_dict[i] = forecast_accuracy(\n",
    "                price_prediction[i].values, \n",
    "                test_data[j].values\n",
    "            )\n",
    "\n",
    "        return json.dumps(result_dict)\n",
    "    except IndexError:\n",
    "        return 'IndexError'\n",
    "    except np.linalg.LinAlgError:\n",
    "        return 'np.LinAlgError'\n",
    "\n",
    "def ar_train_n_evaluate(train_data, test_data, maxlags=50):\n",
    "    try:\n",
    "        train_data_diff = train_data.diff().dropna().reset_index(drop=True)\n",
    "        predict_list = []\n",
    "        for i in train_data_diff.columns:\n",
    "\n",
    "            model = get_ar_result(train_data_diff[i], maxlags=maxlags)\n",
    "            # lag_order = model.k_ar\n",
    "            # forecast_input = train_data_diff.values[-lag_order:]\n",
    "            predict_list.append(model.forecast(steps=test_data.shape[0]))\n",
    "\n",
    "        price_diff_prediction = pd.concat(\n",
    "            predict_list,\n",
    "            axis=1\n",
    "        )\n",
    "        price_diff_prediction.columns = train_data_diff.columns\n",
    "        # print(price_diff_prediction.shape)\n",
    "\n",
    "        price_prediction = invert_transformation(train_data, price_diff_prediction) \n",
    "        result_dict = {}\n",
    "        for i, j in zip(train_data.columns, test_data.columns):\n",
    "            assert i == j, 'ERROR, name mismatch'\n",
    "            # print(price_prediction[i].shape, test_data[j].shape)\n",
    "            result_dict[i] = forecast_accuracy(\n",
    "                price_prediction[i].values, \n",
    "                test_data[j].values\n",
    "            )\n",
    "\n",
    "        return json.dumps(result_dict)\n",
    "    except IndexError:\n",
    "        print('IndexError')\n",
    "        return 'IndexError'\n",
    "    except np.linalg.LinAlgError:\n",
    "        print('np.LinAlgError')\n",
    "        return 'np.LinAlgError'\n",
    "\n",
    "def vecm_train_n_evaluate(train_data, test_data):\n",
    "    try:\n",
    "        train_data_diff = train_data.diff().dropna().reset_index(drop=True)\n",
    "        model = get_vecm_result(train_data_diff, maxlags=50)\n",
    "        lag_order = model.k_ar\n",
    "        forecast_input = train_data_diff.values[-lag_order:]\n",
    "        price_diff_prediction = pd.DataFrame(\n",
    "            model.predict(steps=test_data.shape[0]),\n",
    "            columns=train_data_diff.columns\n",
    "        )\n",
    "        # print(price_diff_prediction.shape)\n",
    "\n",
    "        price_prediction = invert_transformation(train_data, price_diff_prediction) \n",
    "        result_dict = {}\n",
    "        for i, j in zip(train_data.columns, test_data.columns):\n",
    "            assert i == j, 'ERROR, name mismatch'\n",
    "            # print(price_prediction[i].shape, test_data[j].shape)\n",
    "            result_dict[i] = forecast_accuracy(\n",
    "                price_prediction[i].values, \n",
    "                test_data[j].values\n",
    "            )\n",
    "\n",
    "        return json.dumps(result_dict)\n",
    "    except IndexError:\n",
    "        print('IndexError')\n",
    "        return 'IndexError'\n",
    "    except np.linalg.LinAlgError:\n",
    "        print('np.LinAlgError')\n",
    "        return 'np.LinAlgError'\n",
    "    \n",
    "def main(df, train_block_num, step_ahead, model='var'):\n",
    "\n",
    "    main_result_dict = defaultdict(lambda:defaultdict(list))\n",
    "\n",
    "    train_from_list = []\n",
    "    train_to_list = []\n",
    "    test_from_list = []\n",
    "    test_to_list = []\n",
    "\n",
    "    split_num = 80\n",
    "    select_range = df.shape[0] - (step_ahead+train_block_num)\n",
    "    select_gap = select_range // split_num\n",
    "    for i in range(split_num):\n",
    "        train_from_list.append(i*select_gap)\n",
    "        train_to_list.append(i*select_gap + train_block_num)\n",
    "        test_from_list.append(i*select_gap + train_block_num)\n",
    "        test_to_list.append(i*select_gap + train_block_num + step_ahead)\n",
    "\n",
    "\n",
    "    # split_num = df.shape[0] // (step_ahead+train_block_num)\n",
    "    # for i in range(split_num):\n",
    "    #     train_from_list.append(i*(step_ahead+train_block_num))\n",
    "    #     train_to_list.append(i*(step_ahead+train_block_num)+train_block_num)\n",
    "    #     test_from_list.append(i*(step_ahead+train_block_num)+train_block_num)\n",
    "    #     test_to_list.append(i*(step_ahead+train_block_num)+step_ahead+train_block_num)\n",
    "    # for i in tqdm.tqdm(range(train_block_num, df.shape[0]-step_ahead)):\n",
    "    #     # train_data = df.iloc[i-train_block_num:i]\n",
    "    #     # test_data = df.iloc[i:i+step_ahead]\n",
    "    #     train_data_from = i-train_block_num\n",
    "    #     train_data_to = i\n",
    "    #     test_data_from = i\n",
    "    #     test_data_to = i+step_ahead\n",
    "    #     train_from_list.append(train_data_from)\n",
    "    #     train_to_list.append(train_data_to)\n",
    "    #     test_from_list.append(test_data_from)\n",
    "    #     test_to_list.append(test_data_to)\n",
    "\n",
    "    split_df = pd.DataFrame([train_from_list, train_to_list, test_from_list, test_to_list]).T\n",
    "    split_df.columns = ['train_from', 'train_to', 'test_from', 'test_to']\n",
    "\n",
    "    def inner_main(split_df_row):\n",
    "        train_data = df.iloc[split_df_row['train_from']:split_df_row['train_to']].copy()\n",
    "        del train_data['block_num']\n",
    "        test_data = df.iloc[split_df_row['test_from']:split_df_row['test_to']].copy()\n",
    "        del test_data['block_num']\n",
    "        \n",
    "            \n",
    "        if model == 'vecm':\n",
    "            return vecm_train_n_evaluate(train_data, test_data)\n",
    "        if model == 'ar':\n",
    "            return ar_train_n_evaluate(train_data, test_data)\n",
    "        if model == 'mean':\n",
    "            return mean_train_n_evaluate(train_data, test_data)\n",
    "        if model == 'last':\n",
    "            return last_train_n_evaluate(train_data, test_data)\n",
    "        # if model == 'var'\n",
    "        return var_train_n_evaluate(train_data, test_data)\n",
    "    \n",
    "    # for index in split_df.index:\n",
    "    #     inner_main(split_df.loc[index])\n",
    "\n",
    "    return split_df.parallel_apply(inner_main, axis=1)"
   ]
  },
  {
   "cell_type": "code",
   "execution_count": 56,
   "metadata": {},
   "outputs": [
    {
     "name": "stdout",
     "output_type": "stream",
     "text": [
      "{'mape': 0.0074679974082281836, 'me': 2.357540633046788e-06, 'mae': 2.357540633046788e-06, 'mpe': 0.0074679974082281836, 'rmse': 3.3185170481572077e-06}\n",
      "{'mape': 0.05803308813971963, 'me': 1.8436837238141013e-05, 'mae': 1.8436837238141013e-05, 'mpe': 0.05803308813971963, 'rmse': 1.858417404428151e-05}\n",
      "{'mape': 0.00862454867957722, 'me': -1.987611962385101e-07, 'mae': 2.7398405958939823e-06, 'mpe': -0.0005542280595759621, 'rmse': 3.3160862300806025e-06}\n",
      "{'mape': 0.008626348189959969, 'me': -1.7756771067586156e-07, 'mae': 2.740274655318549e-06, 'mpe': -0.00048759441905505974, 'rmse': 3.313888130100089e-06}\n",
      "[0.00032036 0.00032035 0.00032035 ... 0.00031528 0.00031527 0.00031527]\n",
      "0.00862454867957722\n"
     ]
    },
    {
     "data": {
      "text/html": [
       "<div>\n",
       "<style scoped>\n",
       "    .dataframe tbody tr th:only-of-type {\n",
       "        vertical-align: middle;\n",
       "    }\n",
       "\n",
       "    .dataframe tbody tr th {\n",
       "        vertical-align: top;\n",
       "    }\n",
       "\n",
       "    .dataframe thead th {\n",
       "        text-align: right;\n",
       "    }\n",
       "</style>\n",
       "<table border=\"1\" class=\"dataframe\">\n",
       "  <thead>\n",
       "    <tr style=\"text-align: right;\">\n",
       "      <th></th>\n",
       "      <th>chainlink_usdc_eth</th>\n",
       "      <th>chainlink_usdc_eth</th>\n",
       "    </tr>\n",
       "  </thead>\n",
       "  <tbody>\n",
       "    <tr>\n",
       "      <th>12847</th>\n",
       "      <td>0.00032</td>\n",
       "      <td>0.000320</td>\n",
       "    </tr>\n",
       "    <tr>\n",
       "      <th>12848</th>\n",
       "      <td>0.00032</td>\n",
       "      <td>0.000320</td>\n",
       "    </tr>\n",
       "    <tr>\n",
       "      <th>12849</th>\n",
       "      <td>0.00032</td>\n",
       "      <td>0.000320</td>\n",
       "    </tr>\n",
       "    <tr>\n",
       "      <th>12850</th>\n",
       "      <td>0.00032</td>\n",
       "      <td>0.000320</td>\n",
       "    </tr>\n",
       "    <tr>\n",
       "      <th>12851</th>\n",
       "      <td>0.00032</td>\n",
       "      <td>0.000320</td>\n",
       "    </tr>\n",
       "    <tr>\n",
       "      <th>...</th>\n",
       "      <td>...</td>\n",
       "      <td>...</td>\n",
       "    </tr>\n",
       "    <tr>\n",
       "      <th>15411</th>\n",
       "      <td>0.00032</td>\n",
       "      <td>0.000315</td>\n",
       "    </tr>\n",
       "    <tr>\n",
       "      <th>15412</th>\n",
       "      <td>0.00032</td>\n",
       "      <td>0.000315</td>\n",
       "    </tr>\n",
       "    <tr>\n",
       "      <th>15413</th>\n",
       "      <td>0.00032</td>\n",
       "      <td>0.000315</td>\n",
       "    </tr>\n",
       "    <tr>\n",
       "      <th>15414</th>\n",
       "      <td>0.00032</td>\n",
       "      <td>0.000315</td>\n",
       "    </tr>\n",
       "    <tr>\n",
       "      <th>15415</th>\n",
       "      <td>0.00032</td>\n",
       "      <td>0.000315</td>\n",
       "    </tr>\n",
       "  </tbody>\n",
       "</table>\n",
       "<p>2569 rows × 2 columns</p>\n",
       "</div>"
      ],
      "text/plain": [
       "       chainlink_usdc_eth  chainlink_usdc_eth\n",
       "12847             0.00032            0.000320\n",
       "12848             0.00032            0.000320\n",
       "12849             0.00032            0.000320\n",
       "12850             0.00032            0.000320\n",
       "12851             0.00032            0.000320\n",
       "...                   ...                 ...\n",
       "15411             0.00032            0.000315\n",
       "15412             0.00032            0.000315\n",
       "15413             0.00032            0.000315\n",
       "15414             0.00032            0.000315\n",
       "15415             0.00032            0.000315\n",
       "\n",
       "[2569 rows x 2 columns]"
      ]
     },
     "execution_count": 56,
     "metadata": {},
     "output_type": "execute_result"
    },
    {
     "data": {
      "image/png": "[encoded data removed]",
      "text/plain": [
       "<Figure size 432x288 with 1 Axes>"
      ]
     },
     "metadata": {
      "needs_background": "light"
     },
     "output_type": "display_data"
    }
   ],
   "source": [
    "train_len = int(6424 * 2)\n",
    "i = 6424 * 190\n",
    "test_len = 0.4\n",
    "tmp_flat_df = flat_df[['uniswapv3_usdc_eth', 'chainlink_usdc_eth', 'block_num']]\n",
    "train_data = tmp_flat_df.iloc[i:(i+train_len),:]\n",
    "test_data = tmp_flat_df.iloc[(i+train_len):(i + train_len + int(6424*test_len)),:]\n",
    "\n",
    "del train_data['block_num']\n",
    "del test_data['block_num']\n",
    "\n",
    "print(json.loads(last_train_n_evaluate(train_data, test_data))['chainlink_usdc_eth'])\n",
    "print(json.loads(mean_train_n_evaluate(train_data, test_data))['chainlink_usdc_eth'])\n",
    "print(json.loads(var_train_n_evaluate(train_data, test_data))['chainlink_usdc_eth'])\n",
    "print(json.loads(ar_train_n_evaluate(train_data, test_data))['chainlink_usdc_eth'])\n",
    "\n",
    "source = 'uniswapv3_usdc_eth'\n",
    "check = 'chainlink_usdc_eth'\n",
    "\n",
    "train_data_diff = train_data.diff().dropna().reset_index(drop=True)\n",
    "model = get_var_result(train_data_diff, maxlags=None)\n",
    "lag_order = model.k_ar\n",
    "forecast_input = train_data_diff.values[-lag_order:]\n",
    "price_diff_prediction = pd.DataFrame(\n",
    "    model.forecast(y=forecast_input, steps=test_data.shape[0]),\n",
    "    columns=train_data_diff.columns\n",
    ")\n",
    "price_prediction = invert_transformation(train_data, price_diff_prediction) \n",
    "\n",
    "\n",
    "ttt = pd.concat([test_data[check].reset_index(drop=True), price_prediction[check].reset_index(drop=True)], axis=1)#.plot()\n",
    "ttt2 = train_data[check].reset_index(drop=True)\n",
    "ttt3 = train_data[source].reset_index(drop=True)\n",
    "ttt4 = test_data[source].reset_index(drop=True)\n",
    "ttt4.index = range(ttt2.index[-1], ttt2.index[-1]+ttt.shape[0])\n",
    "ttt.index = range(ttt2.index[-1], ttt2.index[-1]+ttt.shape[0])\n",
    "join_df = pd.concat([ttt,ttt2,ttt3,ttt4], axis=1)#.plot()\n",
    "join_df.columns = [f'test_{check}', f'predict_{check}', f'train_{check}',f'train_{source}',  f'test_{source}']\n",
    "join_df = join_df[[f'predict_{check}', f'test_{check}', f'train_{check}',f'train_{source}',  f'test_{source}']]\n",
    "ax = join_df.plot()\n",
    "# ax.legend()\n",
    "ax.set_xlabel(\"Block Number\")\n",
    "ax.set_ylabel(\"Price\")\n",
    "ax.set_title(f\"{'chainlink_usdc_eth'} VAR Good Example\")\n",
    "ax.get_figure().savefig(f\"./modelExample2.pdf\")\n",
    "# ttt.plot()\n",
    "# ttt2.plot()\n",
    "# ttt3.plot()\n",
    "# ttt4.plot()\n",
    "print(price_prediction[check].reset_index(drop=True).values)\n",
    "print(np.mean(np.abs(ttt.iloc[:,0] - ttt.iloc[:,1])/ttt.iloc[:,0]))\n",
    "ttt"
   ]
  },
  {
   "cell_type": "code",
   "execution_count": null,
   "metadata": {},
   "outputs": [],
   "source": [
    "train_data['chainlink_usdc_eth'].plot()\n",
    "train_data['uniswapv2_usdc_eth'].plot()\n",
    "test_data['chainlink_usdc_eth'].plot()\n",
    "test_data['uniswapv2_usdc_eth'].plot()"
   ]
  },
  {
   "cell_type": "code",
   "execution_count": null,
   "metadata": {},
   "outputs": [],
   "source": [
    "eval_result = main(flat_df, 6424, 200, model='last')\n",
    "eval_result"
   ]
  },
  {
   "cell_type": "code",
   "execution_count": null,
   "metadata": {},
   "outputs": [],
   "source": [
    "eval_result = main(flat_df, 6424, 200, model='var')\n",
    "eval_result"
   ]
  },
  {
   "cell_type": "code",
   "execution_count": 33,
   "metadata": {},
   "outputs": [
    {
     "name": "stderr",
     "output_type": "stream",
     "text": [
      "  0%|          | 0/5 [00:00<?, ?it/s]"
     ]
    },
    {
     "data": {
      "application/vnd.jupyter.widget-view+json": {
       "model_id": "7c0ad25b0bc04834986bbd51ef4a2c2e",
       "version_major": 2,
       "version_minor": 0
      },
      "text/plain": [
       "VBox(children=(HBox(children=(IntProgress(value=0, description='0.00%', max=10), Label(value='0 / 10'))), HBox…"
      ]
     },
     "metadata": {},
     "output_type": "display_data"
    },
    {
     "name": "stderr",
     "output_type": "stream",
     "text": [
      "100%|██████████| 1/1 [00:02<00:00,  3.00s/it]\n",
      " 20%|██        | 1/5 [00:02<00:11,  3.00s/it]"
     ]
    },
    {
     "data": {
      "application/vnd.jupyter.widget-view+json": {
       "model_id": "453b8431eac44beea22a9dc0d94fa62f",
       "version_major": 2,
       "version_minor": 0
      },
      "text/plain": [
       "VBox(children=(HBox(children=(IntProgress(value=0, description='0.00%', max=10), Label(value='0 / 10'))), HBox…"
      ]
     },
     "metadata": {},
     "output_type": "display_data"
    },
    {
     "name": "stderr",
     "output_type": "stream",
     "text": [
      "100%|██████████| 1/1 [00:03<00:00,  3.26s/it]\n",
      " 40%|████      | 2/5 [00:06<00:09,  3.16s/it]"
     ]
    },
    {
     "data": {
      "application/vnd.jupyter.widget-view+json": {
       "model_id": "7cf8d507a96940d0a16c52c8882f83f0",
       "version_major": 2,
       "version_minor": 0
      },
      "text/plain": [
       "VBox(children=(HBox(children=(IntProgress(value=0, description='0.00%', max=10), Label(value='0 / 10'))), HBox…"
      ]
     },
     "metadata": {},
     "output_type": "display_data"
    },
    {
     "name": "stderr",
     "output_type": "stream",
     "text": [
      "100%|██████████| 1/1 [00:03<00:00,  3.19s/it]\n",
      " 60%|██████    | 3/5 [00:09<00:06,  3.17s/it]"
     ]
    },
    {
     "data": {
      "application/vnd.jupyter.widget-view+json": {
       "model_id": "dbbf30b2bd374161b83c0e908e7db7d1",
       "version_major": 2,
       "version_minor": 0
      },
      "text/plain": [
       "VBox(children=(HBox(children=(IntProgress(value=0, description='0.00%', max=10), Label(value='0 / 10'))), HBox…"
      ]
     },
     "metadata": {},
     "output_type": "display_data"
    },
    {
     "name": "stderr",
     "output_type": "stream",
     "text": [
      "100%|██████████| 1/1 [00:03<00:00,  3.19s/it]\n",
      " 80%|████████  | 4/5 [00:12<00:03,  3.18s/it]"
     ]
    },
    {
     "data": {
      "application/vnd.jupyter.widget-view+json": {
       "model_id": "93e881094aac4bdd971aaa44219c2e83",
       "version_major": 2,
       "version_minor": 0
      },
      "text/plain": [
       "VBox(children=(HBox(children=(IntProgress(value=0, description='0.00%', max=10), Label(value='0 / 10'))), HBox…"
      ]
     },
     "metadata": {},
     "output_type": "display_data"
    },
    {
     "name": "stderr",
     "output_type": "stream",
     "text": [
      "100%|██████████| 1/1 [00:03<00:00,  3.17s/it]\n",
      "100%|██████████| 5/5 [00:15<00:00,  3.17s/it]\n",
      "  0%|          | 0/5 [00:00<?, ?it/s]"
     ]
    },
    {
     "data": {
      "application/vnd.jupyter.widget-view+json": {
       "model_id": "2bc4877e6a874c4785c88b68750a9010",
       "version_major": 2,
       "version_minor": 0
      },
      "text/plain": [
       "VBox(children=(HBox(children=(IntProgress(value=0, description='0.00%', max=10), Label(value='0 / 10'))), HBox…"
      ]
     },
     "metadata": {},
     "output_type": "display_data"
    },
    {
     "name": "stderr",
     "output_type": "stream",
     "text": [
      "100%|██████████| 1/1 [00:03<00:00,  3.14s/it]\n",
      " 20%|██        | 1/5 [00:03<00:12,  3.14s/it]"
     ]
    },
    {
     "data": {
      "application/vnd.jupyter.widget-view+json": {
       "model_id": "0f47e482e960494687e6f46514ab9dc9",
       "version_major": 2,
       "version_minor": 0
      },
      "text/plain": [
       "VBox(children=(HBox(children=(IntProgress(value=0, description='0.00%', max=10), Label(value='0 / 10'))), HBox…"
      ]
     },
     "metadata": {},
     "output_type": "display_data"
    },
    {
     "name": "stderr",
     "output_type": "stream",
     "text": [
      "100%|██████████| 1/1 [00:02<00:00,  2.96s/it]\n",
      " 40%|████      | 2/5 [00:06<00:09,  3.04s/it]"
     ]
    },
    {
     "data": {
      "application/vnd.jupyter.widget-view+json": {
       "model_id": "a424aefa787842d2bfb9beb4e9d92ba4",
       "version_major": 2,
       "version_minor": 0
      },
      "text/plain": [
       "VBox(children=(HBox(children=(IntProgress(value=0, description='0.00%', max=10), Label(value='0 / 10'))), HBox…"
      ]
     },
     "metadata": {},
     "output_type": "display_data"
    },
    {
     "name": "stderr",
     "output_type": "stream",
     "text": [
      "100%|██████████| 1/1 [00:03<00:00,  3.02s/it]\n",
      " 60%|██████    | 3/5 [00:09<00:06,  3.03s/it]"
     ]
    },
    {
     "data": {
      "application/vnd.jupyter.widget-view+json": {
       "model_id": "ea0410b24d3c4201a3b1ff18ad98646f",
       "version_major": 2,
       "version_minor": 0
      },
      "text/plain": [
       "VBox(children=(HBox(children=(IntProgress(value=0, description='0.00%', max=10), Label(value='0 / 10'))), HBox…"
      ]
     },
     "metadata": {},
     "output_type": "display_data"
    },
    {
     "name": "stderr",
     "output_type": "stream",
     "text": [
      "100%|██████████| 1/1 [00:02<00:00,  2.97s/it]\n",
      " 80%|████████  | 4/5 [00:12<00:03,  3.01s/it]"
     ]
    },
    {
     "data": {
      "application/vnd.jupyter.widget-view+json": {
       "model_id": "89fc2c55fae74cb581ef6f6f6a66ae8e",
       "version_major": 2,
       "version_minor": 0
      },
      "text/plain": [
       "VBox(children=(HBox(children=(IntProgress(value=0, description='0.00%', max=10), Label(value='0 / 10'))), HBox…"
      ]
     },
     "metadata": {},
     "output_type": "display_data"
    },
    {
     "name": "stderr",
     "output_type": "stream",
     "text": [
      "100%|██████████| 1/1 [00:03<00:00,  3.15s/it]\n",
      "100%|██████████| 5/5 [00:15<00:00,  3.05s/it]\n"
     ]
    }
   ],
   "source": [
    "# train_multiplier = [0.25, 0.5, 1, 2, 3, 4]\n",
    "# # test_multiplier = [0.25, 0.5, 0.75, 1]\n",
    "# test_multiplier = [0.005]#, 0.01, 0.05, 0.1, 0.2]\n",
    "\n",
    "\n",
    "train_multiplier = [0.1, 0.25, 0.5, 1, 2]\n",
    "# test_multiplier = [0.05, 0.1, 0.2, 0.5]\n",
    "# train_multiplier = [2]\n",
    "test_multiplier = [0.015, 0.02, 0.025]\n",
    "\n",
    "train_multiplier = [0.1, 0.25, 0.5, 1, 2]\n",
    "test_multiplier = [0.01]\n",
    "model = 'mean'\n",
    "for i in tqdm.tqdm(train_multiplier):\n",
    "    for j in tqdm.tqdm(test_multiplier):\n",
    "# for i in train_multiplier:\n",
    "#     for j in test_multiplier:\n",
    "        train_block_num = int(6424 * i)# train\n",
    "        step_ahead = int(6424*j) # test\n",
    "        eval_result = main(flat_df, train_block_num, step_ahead, model=model)\n",
    "        with open(f'../data/{model}_eval_{train_block_num}_{step_ahead}.pickle', 'wb') as handle:\n",
    "            pickle.dump(eval_result, handle, protocol=pickle.HIGHEST_PROTOCOL)\n",
    "\n",
    "# train_multiplier = [0.25, 0.5, 1, 2, 3, 4]\n",
    "# test_multiplier = [0.25, 0.5, 0.75, 1]\n",
    "# test_multiplier = [0.25, 0.5, 0.75, 1, 2, 3, 4]\n",
    "model = 'last'\n",
    "for i in tqdm.tqdm(train_multiplier):\n",
    "    for j in tqdm.tqdm(test_multiplier):\n",
    "# for i in train_multiplier:\n",
    "#     for j in test_multiplier:\n",
    "        train_block_num = int(6424 * i)# train\n",
    "        step_ahead = int(6424*j) # test\n",
    "        eval_result = main(flat_df, train_block_num, step_ahead, model=model)\n",
    "        with open(f'../data/{model}_eval_{train_block_num}_{step_ahead}.pickle', 'wb') as handle:\n",
    "            pickle.dump(eval_result, handle, protocol=pickle.HIGHEST_PROTOCOL)"
   ]
  },
  {
   "cell_type": "code",
   "execution_count": 22,
   "metadata": {},
   "outputs": [
    {
     "name": "stderr",
     "output_type": "stream",
     "text": [
      "  0%|          | 0/3 [00:00<?, ?it/s]"
     ]
    },
    {
     "data": {
      "application/vnd.jupyter.widget-view+json": {
       "model_id": "7f14408dc9c24c7ca22b77565f35ce61",
       "version_major": 2,
       "version_minor": 0
      },
      "text/plain": [
       "VBox(children=(HBox(children=(IntProgress(value=0, description='0.00%', max=10), Label(value='0 / 10'))), HBox…"
      ]
     },
     "metadata": {},
     "output_type": "display_data"
    },
    {
     "name": "stderr",
     "output_type": "stream",
     "text": []
    },
    {
     "data": {
      "application/vnd.jupyter.widget-view+json": {
       "model_id": "8a4d4f4b031748718380ccb93be064df",
       "version_major": 2,
       "version_minor": 0
      },
      "text/plain": [
       "VBox(children=(HBox(children=(IntProgress(value=0, description='0.00%', max=10), Label(value='0 / 10'))), HBox…"
      ]
     },
     "metadata": {},
     "output_type": "display_data"
    },
    {
     "name": "stderr",
     "output_type": "stream",
     "text": []
    },
    {
     "data": {
      "application/vnd.jupyter.widget-view+json": {
       "model_id": "8cf47ae1fa4d40c4adc7034823d4977b",
       "version_major": 2,
       "version_minor": 0
      },
      "text/plain": [
       "VBox(children=(HBox(children=(IntProgress(value=0, description='0.00%', max=10), Label(value='0 / 10'))), HBox…"
      ]
     },
     "metadata": {},
     "output_type": "display_data"
    },
    {
     "name": "stderr",
     "output_type": "stream",
     "text": []
    },
    {
     "data": {
      "application/vnd.jupyter.widget-view+json": {
       "model_id": "2417ce5754c4451d938d84cc9debfdd8",
       "version_major": 2,
       "version_minor": 0
      },
      "text/plain": [
       "VBox(children=(HBox(children=(IntProgress(value=0, description='0.00%', max=10), Label(value='0 / 10'))), HBox…"
      ]
     },
     "metadata": {},
     "output_type": "display_data"
    },
    {
     "name": "stderr",
     "output_type": "stream",
     "text": [
      "100%|██████████| 4/4 [44:27<00:00, 667.00s/it]\n",
      " 33%|███▎      | 1/3 [44:27<1:28:55, 2667.99s/it]"
     ]
    },
    {
     "data": {
      "application/vnd.jupyter.widget-view+json": {
       "model_id": "7ccaa513fdef4cceab6f03dade4b7138",
       "version_major": 2,
       "version_minor": 0
      },
      "text/plain": [
       "VBox(children=(HBox(children=(IntProgress(value=0, description='0.00%', max=10), Label(value='0 / 10'))), HBox…"
      ]
     },
     "metadata": {},
     "output_type": "display_data"
    },
    {
     "name": "stderr",
     "output_type": "stream",
     "text": []
    },
    {
     "data": {
      "application/vnd.jupyter.widget-view+json": {
       "model_id": "4a2eebefee4e4429ac6dc1f75de50624",
       "version_major": 2,
       "version_minor": 0
      },
      "text/plain": [
       "VBox(children=(HBox(children=(IntProgress(value=0, description='0.00%', max=10), Label(value='0 / 10'))), HBox…"
      ]
     },
     "metadata": {},
     "output_type": "display_data"
    },
    {
     "name": "stderr",
     "output_type": "stream",
     "text": []
    },
    {
     "data": {
      "application/vnd.jupyter.widget-view+json": {
       "model_id": "da19d67ffab24d14bf568418a154862e",
       "version_major": 2,
       "version_minor": 0
      },
      "text/plain": [
       "VBox(children=(HBox(children=(IntProgress(value=0, description='0.00%', max=10), Label(value='0 / 10'))), HBox…"
      ]
     },
     "metadata": {},
     "output_type": "display_data"
    },
    {
     "name": "stderr",
     "output_type": "stream",
     "text": []
    },
    {
     "data": {
      "application/vnd.jupyter.widget-view+json": {
       "model_id": "e6f5080fc5364aa9929a0e766a1dd749",
       "version_major": 2,
       "version_minor": 0
      },
      "text/plain": [
       "VBox(children=(HBox(children=(IntProgress(value=0, description='0.00%', max=10), Label(value='0 / 10'))), HBox…"
      ]
     },
     "metadata": {},
     "output_type": "display_data"
    },
    {
     "name": "stderr",
     "output_type": "stream",
     "text": [
      "100%|██████████| 4/4 [1:18:26<00:00, 1176.70s/it]\n",
      " 67%|██████▋   | 2/3 [2:02:54<1:04:27, 3867.30s/it]"
     ]
    },
    {
     "data": {
      "application/vnd.jupyter.widget-view+json": {
       "model_id": "f0239b53f4b34174acba1e7dd8e5b014",
       "version_major": 2,
       "version_minor": 0
      },
      "text/plain": [
       "VBox(children=(HBox(children=(IntProgress(value=0, description='0.00%', max=10), Label(value='0 / 10'))), HBox…"
      ]
     },
     "metadata": {},
     "output_type": "display_data"
    },
    {
     "name": "stderr",
     "output_type": "stream",
     "text": []
    },
    {
     "data": {
      "application/vnd.jupyter.widget-view+json": {
       "model_id": "211302cad5964d14819fcf9db49e4f31",
       "version_major": 2,
       "version_minor": 0
      },
      "text/plain": [
       "VBox(children=(HBox(children=(IntProgress(value=0, description='0.00%', max=10), Label(value='0 / 10'))), HBox…"
      ]
     },
     "metadata": {},
     "output_type": "display_data"
    },
    {
     "name": "stderr",
     "output_type": "stream",
     "text": []
    },
    {
     "data": {
      "application/vnd.jupyter.widget-view+json": {
       "model_id": "a4d9e7439cd24bca8601d729ed4ef5eb",
       "version_major": 2,
       "version_minor": 0
      },
      "text/plain": [
       "VBox(children=(HBox(children=(IntProgress(value=0, description='0.00%', max=10), Label(value='0 / 10'))), HBox…"
      ]
     },
     "metadata": {},
     "output_type": "display_data"
    },
    {
     "name": "stderr",
     "output_type": "stream",
     "text": []
    },
    {
     "data": {
      "application/vnd.jupyter.widget-view+json": {
       "model_id": "77020c021de045499c3517c5596a0b4f",
       "version_major": 2,
       "version_minor": 0
      },
      "text/plain": [
       "VBox(children=(HBox(children=(IntProgress(value=0, description='0.00%', max=10), Label(value='0 / 10'))), HBox…"
      ]
     },
     "metadata": {},
     "output_type": "display_data"
    },
    {
     "name": "stderr",
     "output_type": "stream",
     "text": [
      "100%|██████████| 4/4 [1:36:36<00:00, 1449.06s/it]\n",
      "100%|██████████| 3/3 [3:39:31<00:00, 4390.35s/it]  \n"
     ]
    }
   ],
   "source": [
    "# train_multiplier = [0.25, 0.5, 1, 2, 3, 4]\n",
    "# # test_multiplier = [0.25, 0.5, 0.75, 1]\n",
    "# test_multiplier = [0.25, 0.5, 0.75, 1, 2, 3, 4]\n",
    "\n",
    "# train_multiplier = [1]\n",
    "# # train_multiplier = [2]\n",
    "# # test_multiplier = [0.25, 0.5, 0.75, 1, 2]\n",
    "# test_multiplier = [0.005, 0.01, 0.05, 0.1, 0.2]\n",
    "\n",
    "\n",
    "# train_multiplier = [1]\n",
    "# test_multiplier = [0.005, 0.05, 0.1]\n",
    "\n",
    "\n",
    "train_multiplier = [0.1, 0.25, 0.5, 1, 2]\n",
    "# train_multiplier = [3,4,5]\n",
    "# test_multiplier = [0.05, 0.1, 0.2, 0.5]\n",
    "test_multiplier = [0.015, 0.02, 0.025]\n",
    "model = 'ar'\n",
    "for i in tqdm.tqdm(train_multiplier):\n",
    "    for j in tqdm.tqdm(test_multiplier):\n",
    "# for i in train_multiplier:\n",
    "#     for j in test_multiplier:\n",
    "        train_block_num = int(6424 * i)# train\n",
    "        step_ahead = int(6424*j) # test\n",
    "        eval_result = main(flat_df, train_block_num, step_ahead, model=model)\n",
    "        with open(f'../data/ar_eval_{train_block_num}_{step_ahead}.pickle', 'wb') as handle:\n",
    "            pickle.dump(eval_result, handle, protocol=pickle.HIGHEST_PROTOCOL)"
   ]
  },
  {
   "cell_type": "code",
   "execution_count": null,
   "metadata": {},
   "outputs": [],
   "source": [
    "# train_multiplier = [0.25, 0.5, 1, 2, 3, 4]\n",
    "# # test_multiplier = [0.25, 0.5, 0.75, 1]\n",
    "# test_multiplier = [2,3,4]\n",
    "# for i in tqdm.tqdm(train_multiplier):\n",
    "#     for j in tqdm.tqdm(test_multiplier):\n",
    "#         train_block_num = int(6424 * i)# train\n",
    "#         step_ahead = int(6424*j) # test\n",
    "#         eval_result = main(flat_df, train_block_num, step_ahead)\n",
    "#         with open(f'../data/var_eval_{train_block_num}_{step_ahead}.pickle', 'wb') as handle:\n",
    "#             pickle.dump(eval_result, handle, protocol=pickle.HIGHEST_PROTOCOL)"
   ]
  },
  {
   "cell_type": "code",
   "execution_count": 34,
   "metadata": {},
   "outputs": [
    {
     "name": "stderr",
     "output_type": "stream",
     "text": [
      "  0%|          | 0/5 [00:00<?, ?it/s]"
     ]
    },
    {
     "data": {
      "application/vnd.jupyter.widget-view+json": {
       "model_id": "4e939a1374714d1e9f3177e809e7d36b",
       "version_major": 2,
       "version_minor": 0
      },
      "text/plain": [
       "VBox(children=(HBox(children=(IntProgress(value=0, description='0.00%', max=10), Label(value='0 / 10'))), HBox…"
      ]
     },
     "metadata": {},
     "output_type": "display_data"
    },
    {
     "name": "stderr",
     "output_type": "stream",
     "text": []
    },
    {
     "data": {
      "application/vnd.jupyter.widget-view+json": {
       "model_id": "8df4a8f0bf084031b2b227103b17fabe",
       "version_major": 2,
       "version_minor": 0
      },
      "text/plain": [
       "VBox(children=(HBox(children=(IntProgress(value=0, description='0.00%', max=10), Label(value='0 / 10'))), HBox…"
      ]
     },
     "metadata": {},
     "output_type": "display_data"
    },
    {
     "name": "stderr",
     "output_type": "stream",
     "text": []
    },
    {
     "data": {
      "application/vnd.jupyter.widget-view+json": {
       "model_id": "75c0a96ab7e94def8d5376766214bebb",
       "version_major": 2,
       "version_minor": 0
      },
      "text/plain": [
       "VBox(children=(HBox(children=(IntProgress(value=0, description='0.00%', max=10), Label(value='0 / 10'))), HBox…"
      ]
     },
     "metadata": {},
     "output_type": "display_data"
    },
    {
     "name": "stderr",
     "output_type": "stream",
     "text": []
    },
    {
     "data": {
      "application/vnd.jupyter.widget-view+json": {
       "model_id": "4e7567658e7047e1a8cad1ed3da40b8d",
       "version_major": 2,
       "version_minor": 0
      },
      "text/plain": [
       "VBox(children=(HBox(children=(IntProgress(value=0, description='0.00%', max=10), Label(value='0 / 10'))), HBox…"
      ]
     },
     "metadata": {},
     "output_type": "display_data"
    },
    {
     "name": "stderr",
     "output_type": "stream",
     "text": [
      "100%|██████████| 4/4 [00:22<00:00,  5.70s/it]\n",
      " 20%|██        | 1/5 [00:22<01:31, 22.80s/it]"
     ]
    },
    {
     "data": {
      "application/vnd.jupyter.widget-view+json": {
       "model_id": "ed662fd856ab4e1493cdd824bd093eff",
       "version_major": 2,
       "version_minor": 0
      },
      "text/plain": [
       "VBox(children=(HBox(children=(IntProgress(value=0, description='0.00%', max=10), Label(value='0 / 10'))), HBox…"
      ]
     },
     "metadata": {},
     "output_type": "display_data"
    },
    {
     "name": "stderr",
     "output_type": "stream",
     "text": []
    },
    {
     "data": {
      "application/vnd.jupyter.widget-view+json": {
       "model_id": "f3287561e4864446bd8791ba64a964ef",
       "version_major": 2,
       "version_minor": 0
      },
      "text/plain": [
       "VBox(children=(HBox(children=(IntProgress(value=0, description='0.00%', max=10), Label(value='0 / 10'))), HBox…"
      ]
     },
     "metadata": {},
     "output_type": "display_data"
    },
    {
     "name": "stderr",
     "output_type": "stream",
     "text": []
    },
    {
     "data": {
      "application/vnd.jupyter.widget-view+json": {
       "model_id": "8ffc7298c9f2469792418bcc58299084",
       "version_major": 2,
       "version_minor": 0
      },
      "text/plain": [
       "VBox(children=(HBox(children=(IntProgress(value=0, description='0.00%', max=10), Label(value='0 / 10'))), HBox…"
      ]
     },
     "metadata": {},
     "output_type": "display_data"
    },
    {
     "name": "stderr",
     "output_type": "stream",
     "text": []
    },
    {
     "data": {
      "application/vnd.jupyter.widget-view+json": {
       "model_id": "7b3fcce533aa475c9a55c5e691261051",
       "version_major": 2,
       "version_minor": 0
      },
      "text/plain": [
       "VBox(children=(HBox(children=(IntProgress(value=0, description='0.00%', max=10), Label(value='0 / 10'))), HBox…"
      ]
     },
     "metadata": {},
     "output_type": "display_data"
    },
    {
     "name": "stderr",
     "output_type": "stream",
     "text": [
      "100%|██████████| 4/4 [01:35<00:00, 23.84s/it]\n",
      " 40%|████      | 2/5 [01:58<03:16, 65.49s/it]"
     ]
    },
    {
     "data": {
      "application/vnd.jupyter.widget-view+json": {
       "model_id": "c6b61468ad294179abdc130264cf2fb6",
       "version_major": 2,
       "version_minor": 0
      },
      "text/plain": [
       "VBox(children=(HBox(children=(IntProgress(value=0, description='0.00%', max=10), Label(value='0 / 10'))), HBox…"
      ]
     },
     "metadata": {},
     "output_type": "display_data"
    },
    {
     "name": "stderr",
     "output_type": "stream",
     "text": []
    },
    {
     "data": {
      "application/vnd.jupyter.widget-view+json": {
       "model_id": "f6fa47e54bcc4d6da50aa1d4b3768fd1",
       "version_major": 2,
       "version_minor": 0
      },
      "text/plain": [
       "VBox(children=(HBox(children=(IntProgress(value=0, description='0.00%', max=10), Label(value='0 / 10'))), HBox…"
      ]
     },
     "metadata": {},
     "output_type": "display_data"
    },
    {
     "name": "stderr",
     "output_type": "stream",
     "text": []
    },
    {
     "data": {
      "application/vnd.jupyter.widget-view+json": {
       "model_id": "04c14d5d148241da8796361b1c22ea1b",
       "version_major": 2,
       "version_minor": 0
      },
      "text/plain": [
       "VBox(children=(HBox(children=(IntProgress(value=0, description='0.00%', max=10), Label(value='0 / 10'))), HBox…"
      ]
     },
     "metadata": {},
     "output_type": "display_data"
    },
    {
     "name": "stderr",
     "output_type": "stream",
     "text": []
    },
    {
     "data": {
      "application/vnd.jupyter.widget-view+json": {
       "model_id": "c2878d44d00744b98252fb1da044bfbc",
       "version_major": 2,
       "version_minor": 0
      },
      "text/plain": [
       "VBox(children=(HBox(children=(IntProgress(value=0, description='0.00%', max=10), Label(value='0 / 10'))), HBox…"
      ]
     },
     "metadata": {},
     "output_type": "display_data"
    },
    {
     "name": "stderr",
     "output_type": "stream",
     "text": [
      "100%|██████████| 4/4 [04:54<00:00, 73.65s/it]\n",
      " 60%|██████    | 3/5 [06:52<05:40, 170.10s/it]"
     ]
    },
    {
     "data": {
      "application/vnd.jupyter.widget-view+json": {
       "model_id": "fd5152fb34614abd952fefd53efe0f63",
       "version_major": 2,
       "version_minor": 0
      },
      "text/plain": [
       "VBox(children=(HBox(children=(IntProgress(value=0, description='0.00%', max=10), Label(value='0 / 10'))), HBox…"
      ]
     },
     "metadata": {},
     "output_type": "display_data"
    },
    {
     "name": "stderr",
     "output_type": "stream",
     "text": []
    },
    {
     "data": {
      "application/vnd.jupyter.widget-view+json": {
       "model_id": "568a0c0ec1044fc69ca558b35f961678",
       "version_major": 2,
       "version_minor": 0
      },
      "text/plain": [
       "VBox(children=(HBox(children=(IntProgress(value=0, description='0.00%', max=10), Label(value='0 / 10'))), HBox…"
      ]
     },
     "metadata": {},
     "output_type": "display_data"
    },
    {
     "name": "stderr",
     "output_type": "stream",
     "text": []
    },
    {
     "data": {
      "application/vnd.jupyter.widget-view+json": {
       "model_id": "bf38be61d1354781a77da9ff9a35d799",
       "version_major": 2,
       "version_minor": 0
      },
      "text/plain": [
       "VBox(children=(HBox(children=(IntProgress(value=0, description='0.00%', max=10), Label(value='0 / 10'))), HBox…"
      ]
     },
     "metadata": {},
     "output_type": "display_data"
    },
    {
     "name": "stderr",
     "output_type": "stream",
     "text": []
    },
    {
     "data": {
      "application/vnd.jupyter.widget-view+json": {
       "model_id": "e1aed27dc39344398118880165c18d94",
       "version_major": 2,
       "version_minor": 0
      },
      "text/plain": [
       "VBox(children=(HBox(children=(IntProgress(value=0, description='0.00%', max=10), Label(value='0 / 10'))), HBox…"
      ]
     },
     "metadata": {},
     "output_type": "display_data"
    },
    {
     "name": "stderr",
     "output_type": "stream",
     "text": [
      "100%|██████████| 4/4 [12:06<00:00, 181.53s/it]\n",
      " 80%|████████  | 4/5 [18:58<06:29, 389.62s/it]"
     ]
    },
    {
     "data": {
      "application/vnd.jupyter.widget-view+json": {
       "model_id": "de56dcc143ef4fc39aaa6d4f7fc9d310",
       "version_major": 2,
       "version_minor": 0
      },
      "text/plain": [
       "VBox(children=(HBox(children=(IntProgress(value=0, description='0.00%', max=10), Label(value='0 / 10'))), HBox…"
      ]
     },
     "metadata": {},
     "output_type": "display_data"
    },
    {
     "name": "stderr",
     "output_type": "stream",
     "text": []
    },
    {
     "data": {
      "application/vnd.jupyter.widget-view+json": {
       "model_id": "ce0ee82ede7b4c2299f6ed2769cf7a5b",
       "version_major": 2,
       "version_minor": 0
      },
      "text/plain": [
       "VBox(children=(HBox(children=(IntProgress(value=0, description='0.00%', max=10), Label(value='0 / 10'))), HBox…"
      ]
     },
     "metadata": {},
     "output_type": "display_data"
    },
    {
     "name": "stderr",
     "output_type": "stream",
     "text": []
    },
    {
     "data": {
      "application/vnd.jupyter.widget-view+json": {
       "model_id": "1222cc1ff2d74d739aca78795e7e6184",
       "version_major": 2,
       "version_minor": 0
      },
      "text/plain": [
       "VBox(children=(HBox(children=(IntProgress(value=0, description='0.00%', max=10), Label(value='0 / 10'))), HBox…"
      ]
     },
     "metadata": {},
     "output_type": "display_data"
    },
    {
     "name": "stderr",
     "output_type": "stream",
     "text": []
    },
    {
     "data": {
      "application/vnd.jupyter.widget-view+json": {
       "model_id": "158b54d6f9de438094693749b913d6e0",
       "version_major": 2,
       "version_minor": 0
      },
      "text/plain": [
       "VBox(children=(HBox(children=(IntProgress(value=0, description='0.00%', max=10), Label(value='0 / 10'))), HBox…"
      ]
     },
     "metadata": {},
     "output_type": "display_data"
    },
    {
     "name": "stderr",
     "output_type": "stream",
     "text": [
      "100%|██████████| 4/4 [29:27<00:00, 441.75s/it]\n",
      "100%|██████████| 5/5 [48:25<00:00, 581.19s/it]\n"
     ]
    }
   ],
   "source": [
    "train_multiplier = [0.25, 0.5, 1, 2, 3, 4]\n",
    "# test_multiplier = [0.25, 0.5, 0.75, 1]\n",
    "test_multiplier = [0.25, 0.5, 0.75, 1, 2, 3, 4]\n",
    "\n",
    "train_multiplier = [0.25, 0.5, 1]\n",
    "# test_multiplier = [0.25, 0.5, 0.75, 1]\n",
    "test_multiplier = [0.01, 0.05, 0.1]\n",
    "\n",
    "train_multiplier = [1]\n",
    "test_multiplier = [0.005, 0.01, 0.05, 0.1, 0.2]\n",
    "\n",
    "\n",
    "train_multiplier = [1]\n",
    "test_multiplier = [0.005, 0.05, 0.1]\n",
    "\n",
    "train_multiplier = [0.1, 0.25, 0.5, 1, 2]\n",
    "# test_multiplier = [0.05, 0.1, 0.2, 0.5]\n",
    "# train_multiplier = [3,4,5]\n",
    "test_multiplier = [0.015, 0.02, 0.025]\n",
    "\n",
    "train_multiplier = [0.1, 0.25, 0.5, 1, 2]\n",
    "test_multiplier = [0.01, 0.015, 0.02, 0.025]\n",
    "for i in tqdm.tqdm(train_multiplier):\n",
    "    for j in tqdm.tqdm(test_multiplier):\n",
    "        train_block_num = int(6424 * i)# train\n",
    "        step_ahead = int(6424*j) # test\n",
    "        eval_result = main(flat_df, train_block_num, step_ahead)\n",
    "        with open(f'../data/var_eval_{train_block_num}_{step_ahead}.pickle', 'wb') as handle:\n",
    "            pickle.dump(eval_result, handle, protocol=pickle.HIGHEST_PROTOCOL)"
   ]
  },
  {
   "cell_type": "code",
   "execution_count": null,
   "metadata": {},
   "outputs": [],
   "source": [
    "# from inspect import currentframe\n",
    "\n",
    "\n",
    "# mape = np.mean(np.abs(forecast - actual)/np.abs(actual))  # MAPE\n",
    "# me = np.mean(forecast - actual)             # ME\n",
    "# mae = np.mean(np.abs(forecast - actual))    # MAE\n",
    "# mpe = np.mean((forecast - actual)/actual)   # MPE\n",
    "# rmse = np.mean((forecast - actual)**2)**.5  # RMSE\n",
    "\n",
    "metric = 'rmse'\n",
    "target = 'chainlink_usdc_eth'\n",
    "gropuby = 'train_multiplier'\n",
    "\n",
    "train_multiplier = [0.25, 0.5, 1, 2, 3, 4]\n",
    "test_multiplier = [0.25, 0.5, 0.75, 1, 2, 3, 4]\n",
    "\n",
    "result_dict = {}\n",
    "var_aggregated_accuracy = []\n",
    "for i in tqdm.tqdm(train_multiplier):\n",
    "    for j in tqdm.tqdm(test_multiplier):\n",
    "        train_block_num = int(6424 * i)# train\n",
    "        step_ahead = int(6424*j) # test\n",
    "        with open(f'../data/var_eval_{train_block_num}_{step_ahead}.pickle', 'rb') as handle:\n",
    "            eval_result = pickle.load(handle)\n",
    "        result_dict[f'{train_block_num}_{step_ahead}'] = eval_result        \n",
    "        \n",
    "        dict_list = []\n",
    "        for k in eval_result.values:\n",
    "            if k != 'IndexError' and k != 'np.LinAlgError':\n",
    "                dict_list.append(json.loads(k))\n",
    "        current_mean = np.mean([q[target][metric] for q in dict_list])\n",
    "        if current_mean < 100:\n",
    "            var_aggregated_accuracy.append([i*6424,j*6424,np.mean([q[target][metric] for q in dict_list])])\n",
    "var_aggregated_accuracy = pd.DataFrame(var_aggregated_accuracy, columns=['train_multiplier', 'test_multiplier', 'accuracy'])\n",
    "\n",
    "\n",
    "\n",
    "# ax = aggregated_accuracy.groupby(gropuby)['accuracy'].mean().plot()\n",
    "# ax.set_xlabel(\"Block Number\")\n",
    "# ax.set_title(f\"{target}_{metric}_{gropuby.split('_')[0]}\")\n",
    "# ax.set_ylabel(metric)\n",
    "# ax.get_figure().savefig(f\"./{target}_{metric}_{gropuby.split('_')[0]}.pdf\")"
   ]
  },
  {
   "cell_type": "code",
   "execution_count": null,
   "metadata": {},
   "outputs": [],
   "source": [
    "metric = 'rmse'\n",
    "target = 'chainlink_usdc_eth'\n",
    "gropuby = 'train_multiplier'\n",
    "\n",
    "train_multiplier = [0.25, 0.5, 1, 2, 3, 4]\n",
    "test_multiplier = [0.25, 0.5, 0.75, 1, 2, 3, 4]\n",
    "\n",
    "result_dict = {}\n",
    "ar_aggregated_accuracy = []\n",
    "for i in tqdm.tqdm(train_multiplier):\n",
    "    for j in tqdm.tqdm(test_multiplier):\n",
    "        train_block_num = int(6424 * i)# train\n",
    "        step_ahead = int(6424*j) # test\n",
    "        with open(f'../data/ar_eval_{train_block_num}_{step_ahead}.pickle', 'rb') as handle:\n",
    "            eval_result = pickle.load(handle)\n",
    "        result_dict[f'{train_block_num}_{step_ahead}'] = eval_result        \n",
    "        \n",
    "        dict_list = []\n",
    "        for k in eval_result.values:\n",
    "            if k != 'IndexError' and k != 'np.LinAlgError':\n",
    "                dict_list.append(json.loads(k))\n",
    "        current_mean = np.mean([q[target][metric] for q in dict_list])\n",
    "        if current_mean < 100:\n",
    "            ar_aggregated_accuracy.append([i*6424,j*6424,np.mean([q[target][metric] for q in dict_list])])\n",
    "ar_aggregated_accuracy = pd.DataFrame(ar_aggregated_accuracy, columns=['train_multiplier', 'test_multiplier', 'accuracy'])\n",
    "\n",
    "\n",
    "\n",
    "# ax = aggregated_accuracy.groupby(gropuby)['accuracy'].mean().plot()\n",
    "# ax.set_xlabel(\"Block Number\")\n",
    "# ax.set_title(f\"{target}_{metric}_{gropuby.split('_')[0]}\")\n",
    "# ax.set_ylabel(metric)\n",
    "# ax.get_figure().savefig(f\"./{target}_{metric}_{gropuby.split('_')[0]}.pdf\")"
   ]
  },
  {
   "cell_type": "code",
   "execution_count": null,
   "metadata": {},
   "outputs": [],
   "source": [
    "metric = 'mape'\n",
    "gropuby = 'test_multiplier'\n",
    "\n",
    "target = 'chainlink_usdc_eth'\n",
    "train_multiplier = [0.25, 0.5, 1, 2, 3, 4]\n",
    "test_multiplier = [0.25, 0.5, 0.75, 1, 2, 3, 4]\n",
    "\n",
    "train_multiplier = [0.1, 0.25, 0.5, 1, 2]\n",
    "test_multiplier = [0.05, 0.1, 0.2, 0.5]\n",
    "\n",
    "result_dict = {}\n",
    "var_aggregated_accuracy = []\n",
    "for i in tqdm.tqdm(train_multiplier):\n",
    "    for j in tqdm.tqdm(test_multiplier):\n",
    "        train_block_num = int(6424 * i)# train\n",
    "        step_ahead = int(6424*j) # test\n",
    "        with open(f'../data/var_eval_{train_block_num}_{step_ahead}.pickle', 'rb') as handle:\n",
    "            eval_result = pickle.load(handle)\n",
    "        result_dict[f'{train_block_num}_{step_ahead}'] = eval_result        \n",
    "        \n",
    "        dict_list = []\n",
    "        for k in eval_result.values:\n",
    "            if k != 'IndexError' and k != 'np.LinAlgError':\n",
    "                dict_list.append(json.loads(k))\n",
    "        current_mean = np.mean([q[target][metric] for q in dict_list])\n",
    "        if current_mean < 100:\n",
    "            var_aggregated_accuracy.append([i*6424,j*6424,np.mean([q[target][metric] for q in dict_list])])\n",
    "var_aggregated_accuracy = pd.DataFrame(var_aggregated_accuracy, columns=['train_multiplier', 'test_multiplier', 'accuracy'])\n",
    "\n",
    "result_dict = {}\n",
    "ar_aggregated_accuracy = []\n",
    "for i in tqdm.tqdm(train_multiplier):\n",
    "    for j in tqdm.tqdm(test_multiplier):\n",
    "        train_block_num = int(6424 * i)# train\n",
    "        step_ahead = int(6424*j) # test\n",
    "        with open(f'../data/ar_eval_{train_block_num}_{step_ahead}.pickle', 'rb') as handle:\n",
    "            eval_result = pickle.load(handle)\n",
    "        result_dict[f'{train_block_num}_{step_ahead}'] = eval_result        \n",
    "        \n",
    "        dict_list = []\n",
    "        for k in eval_result.values:\n",
    "            if k != 'IndexError' and k != 'np.LinAlgError':\n",
    "                dict_list.append(json.loads(k))\n",
    "        current_mean = np.mean([q[target][metric] for q in dict_list])\n",
    "        if current_mean < 100:\n",
    "            ar_aggregated_accuracy.append([i*6424,j*6424,np.mean([q[target][metric] for q in dict_list])])\n",
    "ar_aggregated_accuracy = pd.DataFrame(ar_aggregated_accuracy, columns=['train_multiplier', 'test_multiplier', 'accuracy'])\n",
    "\n",
    "result_dict = {}\n",
    "mean_aggregated_accuracy = []\n",
    "for i in tqdm.tqdm(train_multiplier):\n",
    "    for j in tqdm.tqdm(test_multiplier):\n",
    "        train_block_num = int(6424 * i)# train\n",
    "        step_ahead = int(6424*j) # test\n",
    "        with open(f'../data/mean_eval_{train_block_num}_{step_ahead}.pickle', 'rb') as handle:\n",
    "            eval_result = pickle.load(handle)\n",
    "        result_dict[f'{train_block_num}_{step_ahead}'] = eval_result        \n",
    "        \n",
    "        dict_list = []\n",
    "        for k in eval_result.values:\n",
    "            if k != 'IndexError' and k != 'np.LinAlgError':\n",
    "                dict_list.append(json.loads(k))\n",
    "        current_mean = np.mean([q[target][metric] for q in dict_list])\n",
    "        if current_mean < 100:\n",
    "            mean_aggregated_accuracy.append([i*6424,j*6424,np.mean([q[target][metric] for q in dict_list])])\n",
    "mean_aggregated_accuracy = pd.DataFrame(mean_aggregated_accuracy, columns=['train_multiplier', 'test_multiplier', 'accuracy'])\n",
    "\n",
    "result_dict = {}\n",
    "last_aggregated_accuracy = []\n",
    "for i in tqdm.tqdm(train_multiplier):\n",
    "    for j in tqdm.tqdm(test_multiplier):\n",
    "        train_block_num = int(6424 * i)# train\n",
    "        step_ahead = int(6424*j) # test\n",
    "        with open(f'../data/last_eval_{train_block_num}_{step_ahead}.pickle', 'rb') as handle:\n",
    "            eval_result = pickle.load(handle)\n",
    "        result_dict[f'{train_block_num}_{step_ahead}'] = eval_result        \n",
    "        \n",
    "        dict_list = []\n",
    "        for k in eval_result.values:\n",
    "            if k != 'IndexError' and k != 'np.LinAlgError':\n",
    "                dict_list.append(json.loads(k))\n",
    "        current_mean = np.mean([q[target][metric] for q in dict_list])\n",
    "        if current_mean < 100:\n",
    "            last_aggregated_accuracy.append([i*6424,j*6424,np.mean([q[target][metric] for q in dict_list])])\n",
    "last_aggregated_accuracy = pd.DataFrame(last_aggregated_accuracy, columns=['train_multiplier', 'test_multiplier', 'accuracy'])\n",
    "\n",
    "var_data = var_aggregated_accuracy.groupby(gropuby)['accuracy'].mean()\n",
    "var_data.name = 'var'\n",
    "ar_data = ar_aggregated_accuracy.groupby(gropuby)['accuracy'].mean()\n",
    "ar_data.name = 'ar'\n",
    "mean_data = mean_aggregated_accuracy.groupby(gropuby)['accuracy'].mean()\n",
    "mean_data.name = 'mean'\n",
    "last_data = last_aggregated_accuracy.groupby(gropuby)['accuracy'].mean()\n",
    "last_data.name = 'last'\n",
    "\n",
    "ax = var_data.plot()\n",
    "ar_data.plot(ax = ax)\n",
    "mean_data.plot(ax = ax)\n",
    "last_data.plot(ax = ax)\n",
    "ax.legend()\n",
    "ax.set_xlabel(\"Block Number\")\n",
    "ax.set_title(f\"{target}_{metric}_{gropuby.split('_')[0]}_var_vs_ar\")\n",
    "ax.set_ylabel(metric)\n",
    "ax.get_figure().savefig(f\"./{target}_{metric}_{gropuby.split('_')[0]}_var_vs_ar.pdf\")"
   ]
  },
  {
   "cell_type": "code",
   "execution_count": null,
   "metadata": {},
   "outputs": [],
   "source": [
    "metric = 'mape'\n",
    "gropuby = 'test_multiplier'\n",
    "\n",
    "target = 'chainlink_dai_eth'\n",
    "train_multiplier = [0.25, 0.5, 1]#, 2, 3, 4]\n",
    "test_multiplier = [0.01, 0.05, 0.1, 0.25]#, 0.25, 0.5, 0.75, 1]\n",
    "test_multiplier = [0.005, 0.01, 0.05, 0.1]\n",
    "test_multiplier = [0.005, 0.05, 0.1]\n",
    "\n",
    "train_multiplier = [1]\n",
    "test_multiplier = [0.005, 0.05, 0.1]\n",
    "\n",
    "train_multiplier = [0.1, 0.25, 0.5, 1, 2]\n",
    "test_multiplier = [0.05, 0.1, 0.2, 0.5]\n",
    "\n",
    "train_block_num = int(6424*2)\n",
    "\n",
    "result_dict = {}\n",
    "var_aggregated_accuracy = []\n",
    "# for i in tqdm.tqdm(train_multiplier):\n",
    "for j in tqdm.tqdm(test_multiplier):\n",
    "    # train_block_num = int(6424 * i)# train\n",
    "    step_ahead = int(6424*j) # test\n",
    "    with open(f'../data/var_eval_{train_block_num}_{step_ahead}.pickle', 'rb') as handle:\n",
    "        eval_result = pickle.load(handle)\n",
    "    result_dict[f'{train_block_num}_{step_ahead}'] = eval_result        \n",
    "    \n",
    "    dict_list = []\n",
    "    for k in eval_result.values:\n",
    "        if k != 'IndexError' and k != 'np.LinAlgError':\n",
    "            dict_list.append(json.loads(k))\n",
    "    current_mean = np.mean([q[target][metric] for q in dict_list])\n",
    "    # if current_mean < 100:\n",
    "    var_aggregated_accuracy.append([i*6424,j*6424,np.mean([q[target][metric] for q in dict_list])])\n",
    "var_aggregated_accuracy = pd.DataFrame(var_aggregated_accuracy, columns=['train_multiplier', 'test_multiplier', 'accuracy'])\n",
    "\n",
    "result_dict = {}\n",
    "ar_aggregated_accuracy = []\n",
    "# for i in tqdm.tqdm(train_multiplier):\n",
    "for j in tqdm.tqdm(test_multiplier):\n",
    "    # train_block_num = int(6424 * i)# train\n",
    "    step_ahead = int(6424*j) # test\n",
    "    with open(f'../data/ar_eval_{train_block_num}_{step_ahead}.pickle', 'rb') as handle:\n",
    "        eval_result = pickle.load(handle)\n",
    "    result_dict[f'{train_block_num}_{step_ahead}'] = eval_result        \n",
    "\n",
    "    dict_list = []\n",
    "    for k in eval_result.values:\n",
    "        if k != 'IndexError' and k != 'np.LinAlgError':\n",
    "            dict_list.append(json.loads(k))\n",
    "    current_mean = np.mean([q[target][metric] for q in dict_list])\n",
    "    # if current_mean < 100:\n",
    "    ar_aggregated_accuracy.append([i*6424,j*6424,np.mean([q[target][metric] for q in dict_list])])\n",
    "ar_aggregated_accuracy = pd.DataFrame(ar_aggregated_accuracy, columns=['train_multiplier', 'test_multiplier', 'accuracy'])\n",
    "\n",
    "result_dict = {}\n",
    "mean_aggregated_accuracy = []\n",
    "# for i in tqdm.tqdm(train_multiplier):\n",
    "for j in tqdm.tqdm(test_multiplier):\n",
    "    # train_block_num = int(6424 * i)# train\n",
    "    step_ahead = int(6424*j) # test\n",
    "    with open(f'../data/mean_eval_{train_block_num}_{step_ahead}.pickle', 'rb') as handle:\n",
    "        eval_result = pickle.load(handle)\n",
    "    result_dict[f'{train_block_num}_{step_ahead}'] = eval_result        \n",
    "    \n",
    "    dict_list = []\n",
    "    for k in eval_result.values:\n",
    "        if k != 'IndexError' and k != 'np.LinAlgError':\n",
    "            dict_list.append(json.loads(k))\n",
    "    current_mean = np.mean([q[target][metric] for q in dict_list])\n",
    "    # if current_mean < 100:\n",
    "    mean_aggregated_accuracy.append([i*6424,j*6424,np.mean([q[target][metric] for q in dict_list])])\n",
    "mean_aggregated_accuracy = pd.DataFrame(mean_aggregated_accuracy, columns=['train_multiplier', 'test_multiplier', 'accuracy'])\n",
    "\n",
    "result_dict = {}\n",
    "last_aggregated_accuracy = []\n",
    "# for i in tqdm.tqdm(train_multiplier):\n",
    "for j in tqdm.tqdm(test_multiplier):\n",
    "    # train_block_num = int(6424 * i)# train\n",
    "    step_ahead = int(6424*j) # test\n",
    "    with open(f'../data/last_eval_{train_block_num}_{step_ahead}.pickle', 'rb') as handle:\n",
    "        eval_result = pickle.load(handle)\n",
    "    result_dict[f'{train_block_num}_{step_ahead}'] = eval_result        \n",
    "    \n",
    "    dict_list = []\n",
    "    for k in eval_result.values:\n",
    "        if k != 'IndexError' and k != 'np.LinAlgError':\n",
    "            dict_list.append(json.loads(k))\n",
    "    current_mean = np.mean([q[target][metric] for q in dict_list])\n",
    "    # if current_mean < 100:\n",
    "    last_aggregated_accuracy.append([i*6424,j*6424,np.mean([q[target][metric] for q in dict_list])])\n",
    "last_aggregated_accuracy = pd.DataFrame(last_aggregated_accuracy, columns=['train_multiplier', 'test_multiplier', 'accuracy'])\n",
    "\n",
    "\n",
    "var_aggregated_accuracy\n",
    "ar_aggregated_accuracy\n",
    "mean_aggregated_accuracy\n",
    "last_aggregated_accuracy\n",
    "\n",
    "var_data = var_aggregated_accuracy.groupby(gropuby)['accuracy'].mean()\n",
    "var_data.name = 'var'\n",
    "ar_data = ar_aggregated_accuracy.groupby(gropuby)['accuracy'].mean()\n",
    "ar_data.name = 'ar'\n",
    "mean_data = mean_aggregated_accuracy.groupby(gropuby)['accuracy'].mean()\n",
    "mean_data.name = 'mean'\n",
    "last_data = last_aggregated_accuracy.groupby(gropuby)['accuracy'].mean()\n",
    "last_data.name = 'last'\n",
    "\n",
    "ax = var_data.plot()\n",
    "ar_data.plot(ax = ax)\n",
    "# mean_data.plot(ax = ax)\n",
    "last_data.plot(ax = ax)\n",
    "ax.legend()\n",
    "ax.set_xlabel(\"Block Number\")\n",
    "ax.set_title(f\"{target}_{metric}_{gropuby.split('_')[0]}_var_vs_ar\")\n",
    "ax.set_ylabel(metric)\n",
    "ax.get_figure().savefig(f\"./{target}_{metric}_{gropuby.split('_')[0]}_var_vs_ar_vs_mean.pdf\")"
   ]
  },
  {
   "cell_type": "code",
   "execution_count": null,
   "metadata": {},
   "outputs": [],
   "source": [
    "var_aggregated_accuracy"
   ]
  },
  {
   "cell_type": "code",
   "execution_count": null,
   "metadata": {},
   "outputs": [],
   "source": [
    "last_aggregated_accuracy\n"
   ]
  },
  {
   "cell_type": "code",
   "execution_count": null,
   "metadata": {},
   "outputs": [],
   "source": [
    "var_aggregated_accuracy\n",
    "ar_aggregated_accuracy\n",
    "mean_aggregated_accuracy\n",
    "last_aggregated_accuracy"
   ]
  },
  {
   "cell_type": "code",
   "execution_count": null,
   "metadata": {},
   "outputs": [],
   "source": [
    "metric = 'mape'\n",
    "gropuby = 'test_multiplier'\n",
    "\n",
    "target = 'chainlink_usdc_eth'\n",
    "train_multiplier = [0.25, 0.5, 1]#, 2, 3, 4]\n",
    "test_multiplier = [0.01, 0.05, 0.1, 0.25]#, 0.25, 0.5, 0.75, 1]\n",
    "test_multiplier = [0.005, 0.01, 0.05, 0.1]\n",
    "\n",
    "# test_multiplier = [0.005, 0.05, 0.1]\n",
    "train_block_num = int(6424*1)\n",
    "\n",
    "result_dict = {}\n",
    "var_aggregated_accuracy = {}\n",
    "# for i in tqdm.tqdm(train_multiplier):\n",
    "for j in tqdm.tqdm(test_multiplier):\n",
    "    # train_block_num = int(6424 * i)# train\n",
    "    step_ahead = int(6424*j) # test\n",
    "    with open(f'../data/var_eval_{train_block_num}_{step_ahead}.pickle', 'rb') as handle:\n",
    "        eval_result = pickle.load(handle)\n",
    "    result_dict[f'{train_block_num}_{step_ahead}'] = eval_result        \n",
    "    \n",
    "    dict_list = []\n",
    "    for k in eval_result.values:\n",
    "        if k != 'IndexError' and k != 'np.LinAlgError':\n",
    "            dict_list.append(json.loads(k))\n",
    "    current_mean = np.mean([q[target][metric] for q in dict_list])\n",
    "    # if current_mean < 100:\n",
    "    var_aggregated_accuracy[f'{i*6424},{j*6424}'] = [q[target][metric] for q in dict_list]\n",
    "# var_aggregated_accuracy = pd.DataFrame(var_aggregated_accuracy, columns=['train_multiplier', 'test_multiplier', 'accuracy'])\n",
    "\n",
    "\n",
    "result_dict = {}\n",
    "last_aggregated_accuracy = {}\n",
    "# for i in tqdm.tqdm(train_multiplier):\n",
    "for j in tqdm.tqdm(test_multiplier):\n",
    "    # train_block_num = int(6424 * i)# train\n",
    "    step_ahead = int(6424*j) # test\n",
    "    with open(f'../data/last_eval_{train_block_num}_{step_ahead}.pickle', 'rb') as handle:\n",
    "        eval_result = pickle.load(handle)\n",
    "    result_dict[f'{train_block_num}_{step_ahead}'] = eval_result        \n",
    "    \n",
    "    dict_list = []\n",
    "    for k in eval_result.values:\n",
    "        if k != 'IndexError' and k != 'np.LinAlgError':\n",
    "            dict_list.append(json.loads(k))\n",
    "    current_mean = np.mean([q[target][metric] for q in dict_list])\n",
    "    # if current_mean < 100:\n",
    "    last_aggregated_accuracy[f'{i*6424},{j*6424}'] = [q[target][metric] for q in dict_list]\n",
    "# last_aggregated_accuracy = pd.DataFrame(last_aggregated_accuracy, columns=['train_multiplier', 'test_multiplier', 'accuracy'])\n"
   ]
  },
  {
   "cell_type": "code",
   "execution_count": null,
   "metadata": {},
   "outputs": [],
   "source": [
    "var_aggregated_accuracy.keys()"
   ]
  },
  {
   "cell_type": "code",
   "execution_count": null,
   "metadata": {},
   "outputs": [],
   "source": [
    "test_len = '0,642.4000000000001'\n",
    "ttt = pd.DataFrame(\n",
    "    [\n",
    "        var_aggregated_accuracy[test_len],\n",
    "        last_aggregated_accuracy[test_len]\n",
    "    ],   \n",
    ")\n",
    "ttt = ttt.T\n",
    "ttt = ttt.iloc[:50]\n",
    "ttt.columns = ['var', 'last']\n",
    "ttt.plot()\n",
    "# pd.DataFrame(last_aggregated_accuracy['0,321.20000000000005'], columns=['last']).plot()"
   ]
  },
  {
   "cell_type": "code",
   "execution_count": null,
   "metadata": {},
   "outputs": [],
   "source": [
    "ttt.mean()"
   ]
  },
  {
   "cell_type": "code",
   "execution_count": null,
   "metadata": {},
   "outputs": [],
   "source": [
    "[\n",
    "        var_aggregated_accuracy['0,321.20000000000005'],\n",
    "        last_aggregated_accuracy['0,321.20000000000005']\n",
    "    ]"
   ]
  }
 ],
 "metadata": {
  "kernelspec": {
   "display_name": "Python 3.8.12 ('test2')",
   "language": "python",
   "name": "python3"
  },
  "language_info": {
   "codemirror_mode": {
    "name": "ipython",
    "version": 3
   },
   "file_extension": ".py",
   "mimetype": "text/x-python",
   "name": "python",
   "nbconvert_exporter": "python",
   "pygments_lexer": "ipython3",
   "version": "3.8.12"
  },
  "orig_nbformat": 4,
  "vscode": {
   "interpreter": {
    "hash": "b0ef27b5998537e6e8a4cc2d81c0ef50c5704a9340d6613576e42e6548a03246"
   }
  }
 },
 "nbformat": 4,
 "nbformat_minor": 2
}
