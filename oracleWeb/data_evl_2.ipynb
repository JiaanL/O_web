{
 "cells": [
  {
   "cell_type": "code",
   "execution_count": null,
   "metadata": {},
   "outputs": [],
   "source": [
    "import os\n",
    "import django\n",
    "os.environ.setdefault('DJANGO_SETTINGS_MODULE', 'rest.settings')\n",
    "os.environ[\"DJANGO_ALLOW_ASYNC_UNSAFE\"] = \"true\"\n",
    "django.setup()\n",
    "\n",
    "import pandas as pd\n",
    "import numpy as np\n",
    "import os\n",
    "import django\n",
    "from django.db.models import Max, Min, Avg, Q, F\n",
    "from asgiref.sync import sync_to_async\n",
    "import tqdm\n",
    "from collections import defaultdict\n",
    "from pandarallel import pandarallel\n",
    "import requests\n",
    "import json\n",
    "from matplotlib import pyplot as plt\n",
    "\n",
    "import ctypes\n",
    "from ctypes import c_char_p, cdll\n",
    "GoInt64 = ctypes.c_int64\n",
    "GoInt = GoInt64\n",
    "archive_node = \"http://localhost:19545\"\n",
    "\n",
    "from etherscan.utils.parsing import ResponseParser as parser\n",
    "pandarallel.initialize(progress_bar=True)\n",
    "# os.environ.setdefault('DJANGO_SETTINGS_MODULE', 'rest.settings')\n",
    "# os.environ[\"DJANGO_ALLOW_ASYNC_UNSAFE\"] = \"true\"\n",
    "# django.setup()\n",
    "\n",
    "from debtmonitor.models import *\n",
    "from datavisualization.models import *\n",
    "from datastorage.models import *\n",
    "from debtmonitor.help_function import *\n",
    "\n",
    "import debtmonitor.views as dm\n",
    "import datavisualization.views as dv\n",
    "import datastorage.views as ds\n",
    "import oracleWeb.views as ow\n",
    "\n",
    "from debtmonitor.debt_function import *\n",
    "\n",
    "import pickle\n",
    "\n",
    "tqdm.tqdm.pandas()\n",
    "\n",
    "pandarallel.initialize(progress_bar=True)"
   ]
  },
  {
   "cell_type": "code",
   "execution_count": null,
   "metadata": {},
   "outputs": [],
   "source": [
    "15342608 - 1000000"
   ]
  },
  {
   "cell_type": "code",
   "execution_count": null,
   "metadata": {},
   "outputs": [],
   "source": [
    "raw_price_data = get_price_data(15342608, previous_block = 1000000)"
   ]
  },
  {
   "cell_type": "code",
   "execution_count": null,
   "metadata": {},
   "outputs": [],
   "source": [
    "price_data = raw_price_data.parallel_apply(reverse_tokens, axis=1)\n",
    "price_data = pd.concat([price_data, raw_price_data])\n",
    "price_data"
   ]
  },
  {
   "cell_type": "code",
   "execution_count": null,
   "metadata": {},
   "outputs": [],
   "source": [
    "all_combination = [\n",
    "    ['uniswapv2', 'usdc', 'eth'],\n",
    "    ['uniswapv2', 'usdt', 'eth'],\n",
    "    ['uniswapv2', 'dai', 'eth'],\n",
    "    ['uniswapv3', 'usdc', 'eth'],\n",
    "    ['uniswapv3', 'usdt', 'eth'],\n",
    "    ['uniswapv3', 'dai', 'eth'],\n",
    "    ['chainlink', 'usdc', 'eth'],\n",
    "    ['chainlink', 'usdt', 'eth'],\n",
    "    ['chainlink', 'dai', 'eth'],\n",
    "]\n",
    "data_list = []\n",
    "for combination_i in tqdm.tqdm(all_combination):\n",
    "    tmp_data = price_data[\n",
    "        (price_data['oracle_name']==combination_i[0]) &\n",
    "        (price_data['token0']==combination_i[1]) &\n",
    "        (price_data['token1']==combination_i[2])\n",
    "    ].copy()\n",
    "    tmp_data['_'.join(combination_i)] = tmp_data['current']\n",
    "    tmp_data = tmp_data[f\"block_num {'_'.join(combination_i)}\".split(' ')]\n",
    "    data_list.append(tmp_data)\n",
    "flat_df = data_list[0]\n",
    "for df in tqdm.tqdm(data_list[1:]):\n",
    "    flat_df = flat_df.merge(df, on='block_num', how='outer')\n",
    "flat_df.set_index('block_num', inplace=True)\n",
    "flat_df.fillna(method='ffill', inplace=True)\n",
    "flat_df.fillna(method='bfill', inplace=True)\n",
    "flat_df.dropna(inplace=True)\n",
    "flat_df"
   ]
  },
  {
   "cell_type": "code",
   "execution_count": null,
   "metadata": {},
   "outputs": [],
   "source": [
    "flat_df.to_csv('../dataflat_df.csv')"
   ]
  },
  {
   "cell_type": "code",
   "execution_count": 70,
   "metadata": {},
   "outputs": [
    {
     "name": "stdout",
     "output_type": "stream",
     "text": [
      "INFO: Pandarallel will run on 8 workers.\n",
      "INFO: Pandarallel will use standard multiprocessing data transfer (pipe) to transfer data between the main process and workers.\n"
     ]
    }
   ],
   "source": [
    "\n",
    "import pandas as pd\n",
    "import numpy as np\n",
    "import os\n",
    "\n",
    "import tqdm\n",
    "from collections import defaultdict\n",
    "from pandarallel import pandarallel\n",
    "import requests\n",
    "import json\n",
    "from matplotlib import pyplot as plt\n",
    "\n",
    "import pickle\n",
    "\n",
    "tqdm.tqdm.pandas()\n",
    "\n",
    "pandarallel.initialize(progress_bar=True)"
   ]
  },
  {
   "cell_type": "code",
   "execution_count": 71,
   "metadata": {},
   "outputs": [],
   "source": [
    "flat_df = pd.read_csv('../dataflat_df.csv')"
   ]
  },
  {
   "cell_type": "code",
   "execution_count": 72,
   "metadata": {},
   "outputs": [],
   "source": [
    "from debtmonitor.help_function import *\n",
    "\n",
    "\n",
    "def invert_transformation(df_train, df_forecast):\n",
    "    \"\"\"Revert back the differencing to get the forecast to original scale.\"\"\"\n",
    "    df_fc = df_forecast.copy()\n",
    "    columns = df_train.columns\n",
    "    for col in columns:        \n",
    "        # Roll back 1st Diff\n",
    "        df_fc[str(col)] = (df_train[col].iloc[-1] + df_fc[col].cumsum()) # np.exp(df_train[col].iloc[-1] + df_fc[col].cumsum())\n",
    "    return df_fc\n",
    "\n",
    "def reverse_tokens(df_row):\n",
    "    token0 = df_row['token0']\n",
    "    token1 = df_row['token1']\n",
    "    current = df_row['current']\n",
    "    df_row['token0'] = token1\n",
    "    df_row['token1'] = token0\n",
    "    df_row['current'] = 1.0/current\n",
    "    return df_row\n",
    "\n",
    "\n",
    "# Reference https://www.machinelearningplus.com/time-series/vector-autoregression-examples-python/\n",
    "from statsmodels.tsa.stattools import acf\n",
    "def forecast_accuracy(forecast, actual):\n",
    "    mape = np.mean(np.abs(forecast - actual)/np.abs(actual))  # MAPE\n",
    "    me = np.mean(forecast - actual)             # ME\n",
    "    mae = np.mean(np.abs(forecast - actual))    # MAE\n",
    "    mpe = np.mean((forecast - actual)/actual)   # MPE\n",
    "    rmse = np.mean((forecast - actual)**2)**.5  # RMSE\n",
    "    # corr = np.corrcoef(forecast, actual)[0,1]   # corr\n",
    "    # mins = np.amin(np.hstack([forecast[:,None], \n",
    "    #                           actual[:,None]]), axis=1)\n",
    "    # maxs = np.amax(np.hstack([forecast[:,None], \n",
    "    #                           actual[:,None]]), axis=1)\n",
    "    # minmax = 1 - np.mean(mins/maxs)             # minmax\n",
    "    return({'mape':mape, 'me':me, 'mae': mae, \n",
    "            'mpe': mpe, 'rmse':rmse,})# 'corr':corr, 'minmax':minmax})\n",
    "\n",
    "def train_n_evaluate(train_data, test_data):\n",
    "    try:\n",
    "        train_data_diff = train_data.diff().dropna().reset_index(drop=True)\n",
    "        model = get_var_result(train_data_diff, maxlags=None)\n",
    "        lag_order = model.k_ar\n",
    "        forecast_input = train_data_diff.values[-lag_order:]\n",
    "        price_diff_prediction = pd.DataFrame(\n",
    "            model.forecast(y=forecast_input, steps=test_data.shape[0]),\n",
    "            columns=train_data_diff.columns\n",
    "        )\n",
    "        # print(price_diff_prediction.shape)\n",
    "\n",
    "        price_prediction = invert_transformation(test_data, price_diff_prediction) \n",
    "        result_dict = {}\n",
    "        for i, j in zip(train_data.columns, test_data.columns):\n",
    "            assert i == j, 'ERROR, name mismatch'\n",
    "            # print(price_prediction[i].shape, test_data[j].shape)\n",
    "            result_dict[i] = forecast_accuracy(\n",
    "                price_prediction[i].values, \n",
    "                test_data[j].values\n",
    "            )\n",
    "\n",
    "        return json.dumps(result_dict)\n",
    "    except IndexError:\n",
    "        return 'IndexError'\n",
    "    except np.linalg.LinAlgError:\n",
    "        return 'np.LinAlgError'\n",
    "    \n",
    "def main(df, train_block_num, step_ahead):\n",
    "\n",
    "    main_result_dict = defaultdict(lambda:defaultdict(list))\n",
    "\n",
    "    train_from_list = []\n",
    "    train_to_list = []\n",
    "    test_from_list = []\n",
    "    test_to_list = []\n",
    "\n",
    "    split_num = 80\n",
    "    select_range = df.shape[0] - (step_ahead+train_block_num)\n",
    "    select_gap = select_range // split_num\n",
    "    for i in range(split_num):\n",
    "        train_from_list.append(i*select_gap)\n",
    "        train_to_list.append(i*select_gap + train_block_num)\n",
    "        test_from_list.append(i*select_gap + train_block_num)\n",
    "        test_to_list.append(i*select_gap + train_block_num + step_ahead)\n",
    "\n",
    "\n",
    "    # split_num = df.shape[0] // (step_ahead+train_block_num)\n",
    "    # for i in range(split_num):\n",
    "    #     train_from_list.append(i*(step_ahead+train_block_num))\n",
    "    #     train_to_list.append(i*(step_ahead+train_block_num)+train_block_num)\n",
    "    #     test_from_list.append(i*(step_ahead+train_block_num)+train_block_num)\n",
    "    #     test_to_list.append(i*(step_ahead+train_block_num)+step_ahead+train_block_num)\n",
    "    # for i in tqdm.tqdm(range(train_block_num, df.shape[0]-step_ahead)):\n",
    "    #     # train_data = df.iloc[i-train_block_num:i]\n",
    "    #     # test_data = df.iloc[i:i+step_ahead]\n",
    "    #     train_data_from = i-train_block_num\n",
    "    #     train_data_to = i\n",
    "    #     test_data_from = i\n",
    "    #     test_data_to = i+step_ahead\n",
    "    #     train_from_list.append(train_data_from)\n",
    "    #     train_to_list.append(train_data_to)\n",
    "    #     test_from_list.append(test_data_from)\n",
    "    #     test_to_list.append(test_data_to)\n",
    "\n",
    "    split_df = pd.DataFrame([train_from_list, train_to_list, test_from_list, test_to_list]).T\n",
    "    split_df.columns = ['train_from', 'train_to', 'test_from', 'test_to']\n",
    "\n",
    "    def inner_main(split_df_row):\n",
    "        train_data = df.iloc[split_df_row['train_from']:split_df_row['train_to']]\n",
    "        test_data = df.iloc[split_df_row['test_from']:split_df_row['test_to']]\n",
    "        return train_n_evaluate(train_data, test_data)\n",
    "    \n",
    "    return split_df.parallel_apply(inner_main, axis=1)"
   ]
  },
  {
   "cell_type": "code",
   "execution_count": null,
   "metadata": {},
   "outputs": [],
   "source": [
    "# train_multiplier = [0.25, 0.5, 1, 2, 3, 4, 5]\n",
    "# test_multiplier = [0.25, 0.5, 0.75, 1]"
   ]
  },
  {
   "cell_type": "code",
   "execution_count": 73,
   "metadata": {},
   "outputs": [
    {
     "name": "stderr",
     "output_type": "stream",
     "text": [
      "  0%|          | 0/6 [00:00<?, ?it/s]"
     ]
    },
    {
     "data": {
      "application/vnd.jupyter.widget-view+json": {
       "model_id": "7f365e89823c4ee998304b6d92fd8222",
       "version_major": 2,
       "version_minor": 0
      },
      "text/plain": [
       "VBox(children=(HBox(children=(IntProgress(value=0, description='0.00%', max=10), Label(value='0 / 10'))), HBox…"
      ]
     },
     "metadata": {},
     "output_type": "display_data"
    },
    {
     "name": "stderr",
     "output_type": "stream",
     "text": []
    },
    {
     "data": {
      "application/vnd.jupyter.widget-view+json": {
       "model_id": "ddba4b1bb9e14dfbbb7e0a3ba9f28d1c",
       "version_major": 2,
       "version_minor": 0
      },
      "text/plain": [
       "VBox(children=(HBox(children=(IntProgress(value=0, description='0.00%', max=10), Label(value='0 / 10'))), HBox…"
      ]
     },
     "metadata": {},
     "output_type": "display_data"
    },
    {
     "name": "stderr",
     "output_type": "stream",
     "text": []
    },
    {
     "data": {
      "application/vnd.jupyter.widget-view+json": {
       "model_id": "d8aed641d6404617a7bd0b5c7d974d8c",
       "version_major": 2,
       "version_minor": 0
      },
      "text/plain": [
       "VBox(children=(HBox(children=(IntProgress(value=0, description='0.00%', max=10), Label(value='0 / 10'))), HBox…"
      ]
     },
     "metadata": {},
     "output_type": "display_data"
    },
    {
     "name": "stderr",
     "output_type": "stream",
     "text": [
      "100%|██████████| 3/3 [01:37<00:00, 32.34s/it]\n",
      " 17%|█▋        | 1/6 [01:37<08:05, 97.02s/it]"
     ]
    },
    {
     "data": {
      "application/vnd.jupyter.widget-view+json": {
       "model_id": "8bc48142287c4eedadbd0338d7645708",
       "version_major": 2,
       "version_minor": 0
      },
      "text/plain": [
       "VBox(children=(HBox(children=(IntProgress(value=0, description='0.00%', max=10), Label(value='0 / 10'))), HBox…"
      ]
     },
     "metadata": {},
     "output_type": "display_data"
    },
    {
     "name": "stderr",
     "output_type": "stream",
     "text": []
    },
    {
     "data": {
      "application/vnd.jupyter.widget-view+json": {
       "model_id": "6817777dcf804cf883e1028f56093de5",
       "version_major": 2,
       "version_minor": 0
      },
      "text/plain": [
       "VBox(children=(HBox(children=(IntProgress(value=0, description='0.00%', max=10), Label(value='0 / 10'))), HBox…"
      ]
     },
     "metadata": {},
     "output_type": "display_data"
    },
    {
     "name": "stderr",
     "output_type": "stream",
     "text": []
    },
    {
     "data": {
      "application/vnd.jupyter.widget-view+json": {
       "model_id": "516a6d0232634712bcb34a426c1ea2f1",
       "version_major": 2,
       "version_minor": 0
      },
      "text/plain": [
       "VBox(children=(HBox(children=(IntProgress(value=0, description='0.00%', max=10), Label(value='0 / 10'))), HBox…"
      ]
     },
     "metadata": {},
     "output_type": "display_data"
    },
    {
     "name": "stderr",
     "output_type": "stream",
     "text": [
      "100%|██████████| 3/3 [03:52<00:00, 77.60s/it]\n",
      " 33%|███▎      | 2/6 [05:29<11:47, 176.89s/it]"
     ]
    },
    {
     "data": {
      "application/vnd.jupyter.widget-view+json": {
       "model_id": "c65a50cfa72a46469fb582dedb33e3f8",
       "version_major": 2,
       "version_minor": 0
      },
      "text/plain": [
       "VBox(children=(HBox(children=(IntProgress(value=0, description='0.00%', max=10), Label(value='0 / 10'))), HBox…"
      ]
     },
     "metadata": {},
     "output_type": "display_data"
    },
    {
     "name": "stderr",
     "output_type": "stream",
     "text": []
    },
    {
     "data": {
      "application/vnd.jupyter.widget-view+json": {
       "model_id": "9e9995a3f5814fee9f49c5d3bdd34cf6",
       "version_major": 2,
       "version_minor": 0
      },
      "text/plain": [
       "VBox(children=(HBox(children=(IntProgress(value=0, description='0.00%', max=10), Label(value='0 / 10'))), HBox…"
      ]
     },
     "metadata": {},
     "output_type": "display_data"
    },
    {
     "name": "stderr",
     "output_type": "stream",
     "text": []
    },
    {
     "data": {
      "application/vnd.jupyter.widget-view+json": {
       "model_id": "8118fc21208941c08d1c08032f465ee5",
       "version_major": 2,
       "version_minor": 0
      },
      "text/plain": [
       "VBox(children=(HBox(children=(IntProgress(value=0, description='0.00%', max=10), Label(value='0 / 10'))), HBox…"
      ]
     },
     "metadata": {},
     "output_type": "display_data"
    },
    {
     "name": "stderr",
     "output_type": "stream",
     "text": [
      "100%|██████████| 3/3 [08:54<00:00, 178.23s/it]\n",
      " 50%|█████     | 3/6 [14:24<17:00, 340.27s/it]"
     ]
    },
    {
     "data": {
      "application/vnd.jupyter.widget-view+json": {
       "model_id": "e85508eae72641349d88cfae259b9fe6",
       "version_major": 2,
       "version_minor": 0
      },
      "text/plain": [
       "VBox(children=(HBox(children=(IntProgress(value=0, description='0.00%', max=10), Label(value='0 / 10'))), HBox…"
      ]
     },
     "metadata": {},
     "output_type": "display_data"
    },
    {
     "name": "stderr",
     "output_type": "stream",
     "text": []
    },
    {
     "data": {
      "application/vnd.jupyter.widget-view+json": {
       "model_id": "40e356c9a34b4bcc928306436da478fd",
       "version_major": 2,
       "version_minor": 0
      },
      "text/plain": [
       "VBox(children=(HBox(children=(IntProgress(value=0, description='0.00%', max=10), Label(value='0 / 10'))), HBox…"
      ]
     },
     "metadata": {},
     "output_type": "display_data"
    },
    {
     "name": "stderr",
     "output_type": "stream",
     "text": []
    },
    {
     "data": {
      "application/vnd.jupyter.widget-view+json": {
       "model_id": "e2fc4a0b97d5438cbdaa8ed1c07930c3",
       "version_major": 2,
       "version_minor": 0
      },
      "text/plain": [
       "VBox(children=(HBox(children=(IntProgress(value=0, description='0.00%', max=10), Label(value='0 / 10'))), HBox…"
      ]
     },
     "metadata": {},
     "output_type": "display_data"
    },
    {
     "name": "stderr",
     "output_type": "stream",
     "text": [
      "100%|██████████| 3/3 [26:16<00:00, 525.39s/it]\n",
      " 67%|██████▋   | 4/6 [40:40<27:36, 828.19s/it]"
     ]
    },
    {
     "data": {
      "application/vnd.jupyter.widget-view+json": {
       "model_id": "18273566da9945a1b3dbc3b27d43ed83",
       "version_major": 2,
       "version_minor": 0
      },
      "text/plain": [
       "VBox(children=(HBox(children=(IntProgress(value=0, description='0.00%', max=10), Label(value='0 / 10'))), HBox…"
      ]
     },
     "metadata": {},
     "output_type": "display_data"
    },
    {
     "name": "stderr",
     "output_type": "stream",
     "text": []
    },
    {
     "data": {
      "application/vnd.jupyter.widget-view+json": {
       "model_id": "5f86c4342b25470abbec8125a3025d42",
       "version_major": 2,
       "version_minor": 0
      },
      "text/plain": [
       "VBox(children=(HBox(children=(IntProgress(value=0, description='0.00%', max=10), Label(value='0 / 10'))), HBox…"
      ]
     },
     "metadata": {},
     "output_type": "display_data"
    },
    {
     "name": "stderr",
     "output_type": "stream",
     "text": []
    },
    {
     "data": {
      "application/vnd.jupyter.widget-view+json": {
       "model_id": "7e8f8788b34f46259b94817371bb7e75",
       "version_major": 2,
       "version_minor": 0
      },
      "text/plain": [
       "VBox(children=(HBox(children=(IntProgress(value=0, description='0.00%', max=10), Label(value='0 / 10'))), HBox…"
      ]
     },
     "metadata": {},
     "output_type": "display_data"
    },
    {
     "name": "stderr",
     "output_type": "stream",
     "text": [
      "100%|██████████| 3/3 [47:50<00:00, 956.67s/it]\n",
      " 83%|████████▎ | 5/6 [1:28:30<26:04, 1564.49s/it]"
     ]
    },
    {
     "data": {
      "application/vnd.jupyter.widget-view+json": {
       "model_id": "8fb09677ad2e4f5fb6db4d562fd9f1fa",
       "version_major": 2,
       "version_minor": 0
      },
      "text/plain": [
       "VBox(children=(HBox(children=(IntProgress(value=0, description='0.00%', max=10), Label(value='0 / 10'))), HBox…"
      ]
     },
     "metadata": {},
     "output_type": "display_data"
    },
    {
     "name": "stderr",
     "output_type": "stream",
     "text": []
    },
    {
     "data": {
      "application/vnd.jupyter.widget-view+json": {
       "model_id": "a85f26050a9f47e3802db9c2917e4c9d",
       "version_major": 2,
       "version_minor": 0
      },
      "text/plain": [
       "VBox(children=(HBox(children=(IntProgress(value=0, description='0.00%', max=10), Label(value='0 / 10'))), HBox…"
      ]
     },
     "metadata": {},
     "output_type": "display_data"
    },
    {
     "name": "stderr",
     "output_type": "stream",
     "text": []
    },
    {
     "data": {
      "application/vnd.jupyter.widget-view+json": {
       "model_id": "23479334848047adb4e7529b20da8f93",
       "version_major": 2,
       "version_minor": 0
      },
      "text/plain": [
       "VBox(children=(HBox(children=(IntProgress(value=0, description='0.00%', max=10), Label(value='0 / 10'))), HBox…"
      ]
     },
     "metadata": {},
     "output_type": "display_data"
    },
    {
     "name": "stderr",
     "output_type": "stream",
     "text": [
      "100%|██████████| 3/3 [1:16:40<00:00, 1533.54s/it]\n",
      "100%|██████████| 6/6 [2:45:11<00:00, 1651.89s/it]\n"
     ]
    }
   ],
   "source": [
    "train_multiplier = [0.25, 0.5, 1, 2, 3, 4]\n",
    "# test_multiplier = [0.25, 0.5, 0.75, 1]\n",
    "test_multiplier = [2,3,4]\n",
    "for i in tqdm.tqdm(train_multiplier):\n",
    "    for j in tqdm.tqdm(test_multiplier):\n",
    "        train_block_num = int(6424 * i)# train\n",
    "        step_ahead = int(6424*j) # test\n",
    "        eval_result = main(flat_df, train_block_num, step_ahead)\n",
    "        with open(f'../data/var_eval_{train_block_num}_{step_ahead}.pickle', 'wb') as handle:\n",
    "            pickle.dump(eval_result, handle, protocol=pickle.HIGHEST_PROTOCOL)"
   ]
  },
  {
   "cell_type": "code",
   "execution_count": 85,
   "metadata": {},
   "outputs": [
    {
     "name": "stderr",
     "output_type": "stream",
     "text": [
      "100%|██████████| 7/7 [00:00<00:00, 246.94it/s]\n",
      "100%|██████████| 7/7 [00:00<00:00, 123.60it/s]\n",
      "100%|██████████| 7/7 [00:00<00:00, 175.61it/s]\n",
      "100%|██████████| 7/7 [00:00<00:00, 216.56it/s]\n",
      "100%|██████████| 7/7 [00:00<00:00, 177.27it/s]\n",
      "100%|██████████| 7/7 [00:00<00:00, 168.30it/s]\n",
      "100%|██████████| 6/6 [00:00<00:00, 20.08it/s]\n"
     ]
    },
    {
     "data": {
      "image/png": "[encoded data removed]",
      "text/plain": [
       "<Figure size 432x288 with 1 Axes>"
      ]
     },
     "metadata": {
      "needs_background": "light"
     },
     "output_type": "display_data"
    }
   ],
   "source": [
    "# from inspect import currentframe\n",
    "\n",
    "\n",
    "# mape = np.mean(np.abs(forecast - actual)/np.abs(actual))  # MAPE\n",
    "# me = np.mean(forecast - actual)             # ME\n",
    "# mae = np.mean(np.abs(forecast - actual))    # MAE\n",
    "# mpe = np.mean((forecast - actual)/actual)   # MPE\n",
    "# rmse = np.mean((forecast - actual)**2)**.5  # RMSE\n",
    "\n",
    "metric = 'rmse'\n",
    "target = 'chainlink_usdc_eth'\n",
    "gropuby = 'train_multiplier'\n",
    "\n",
    "train_multiplier = [0.25, 0.5, 1, 2, 3, 4]\n",
    "test_multiplier = [0.25, 0.5, 0.75, 1, 2, 3, 4]\n",
    "\n",
    "result_dict = {}\n",
    "aggregated_accuracy = []\n",
    "for i in tqdm.tqdm(train_multiplier):\n",
    "    for j in tqdm.tqdm(test_multiplier):\n",
    "        train_block_num = int(6424 * i)# train\n",
    "        step_ahead = int(6424*j) # test\n",
    "        with open(f'../data/var_eval_{train_block_num}_{step_ahead}.pickle', 'rb') as handle:\n",
    "            eval_result = pickle.load(handle)\n",
    "        result_dict[f'{train_block_num}_{step_ahead}'] = eval_result        \n",
    "        \n",
    "        dict_list = []\n",
    "        for k in eval_result.values:\n",
    "            if k != 'IndexError' and k != 'np.LinAlgError':\n",
    "                dict_list.append(json.loads(k))\n",
    "        current_mean = np.mean([q[target][metric] for q in dict_list])\n",
    "        if current_mean < 100:\n",
    "            aggregated_accuracy.append([i*6424,j*6424,np.mean([q[target][metric] for q in dict_list])])\n",
    "aggregated_accuracy = pd.DataFrame(aggregated_accuracy, columns=['train_multiplier', 'test_multiplier', 'accuracy'])\n",
    "\n",
    "\n",
    "\n",
    "ax = aggregated_accuracy.groupby(gropuby)['accuracy'].mean().plot()\n",
    "ax.set_xlabel(\"Block Number\")\n",
    "ax.set_title(f\"{target}_{metric}_{gropuby.split('_')[0]}\")\n",
    "ax.set_ylabel(metric)\n",
    "ax.get_figure().savefig(f\"./{target}_{metric}_{gropuby.split('_')[0]}.pdf\")"
   ]
  },
  {
   "cell_type": "code",
   "execution_count": 67,
   "metadata": {},
   "outputs": [
    {
     "data": {
      "text/plain": [
       "test_multiplier\n",
       "1606.0    0.158254\n",
       "3212.0    0.282739\n",
       "4818.0    0.398997\n",
       "6424.0    0.420641\n",
       "Name: accuracy, dtype: float64"
      ]
     },
     "execution_count": 67,
     "metadata": {},
     "output_type": "execute_result"
    }
   ],
   "source": [
    "aggregated_accuracy.groupby(gropuby)['accuracy'].mean()"
   ]
  },
  {
   "cell_type": "code",
   "execution_count": 58,
   "metadata": {},
   "outputs": [
    {
     "data": {
      "text/html": [
       "<div>\n",
       "<style scoped>\n",
       "    .dataframe tbody tr th:only-of-type {\n",
       "        vertical-align: middle;\n",
       "    }\n",
       "\n",
       "    .dataframe tbody tr th {\n",
       "        vertical-align: top;\n",
       "    }\n",
       "\n",
       "    .dataframe thead th {\n",
       "        text-align: right;\n",
       "    }\n",
       "</style>\n",
       "<table border=\"1\" class=\"dataframe\">\n",
       "  <thead>\n",
       "    <tr style=\"text-align: right;\">\n",
       "      <th></th>\n",
       "      <th>train_multiplier</th>\n",
       "      <th>test_multiplier</th>\n",
       "      <th>accuracy</th>\n",
       "    </tr>\n",
       "  </thead>\n",
       "  <tbody>\n",
       "    <tr>\n",
       "      <th>0</th>\n",
       "      <td>0.25</td>\n",
       "      <td>0.25</td>\n",
       "      <td>5.535446e-01</td>\n",
       "    </tr>\n",
       "    <tr>\n",
       "      <th>1</th>\n",
       "      <td>0.25</td>\n",
       "      <td>0.50</td>\n",
       "      <td>9.491868e-01</td>\n",
       "    </tr>\n",
       "    <tr>\n",
       "      <th>2</th>\n",
       "      <td>0.25</td>\n",
       "      <td>0.75</td>\n",
       "      <td>1.511884e+00</td>\n",
       "    </tr>\n",
       "    <tr>\n",
       "      <th>3</th>\n",
       "      <td>0.25</td>\n",
       "      <td>1.00</td>\n",
       "      <td>1.652392e+00</td>\n",
       "    </tr>\n",
       "    <tr>\n",
       "      <th>4</th>\n",
       "      <td>0.50</td>\n",
       "      <td>0.25</td>\n",
       "      <td>2.317274e-01</td>\n",
       "    </tr>\n",
       "    <tr>\n",
       "      <th>5</th>\n",
       "      <td>0.50</td>\n",
       "      <td>0.50</td>\n",
       "      <td>4.669122e-01</td>\n",
       "    </tr>\n",
       "    <tr>\n",
       "      <th>6</th>\n",
       "      <td>0.50</td>\n",
       "      <td>0.75</td>\n",
       "      <td>4.582591e-01</td>\n",
       "    </tr>\n",
       "    <tr>\n",
       "      <th>7</th>\n",
       "      <td>0.50</td>\n",
       "      <td>1.00</td>\n",
       "      <td>3.724417e+41</td>\n",
       "    </tr>\n",
       "    <tr>\n",
       "      <th>8</th>\n",
       "      <td>1.00</td>\n",
       "      <td>0.25</td>\n",
       "      <td>5.843422e-02</td>\n",
       "    </tr>\n",
       "    <tr>\n",
       "      <th>9</th>\n",
       "      <td>1.00</td>\n",
       "      <td>0.50</td>\n",
       "      <td>1.104608e-01</td>\n",
       "    </tr>\n",
       "    <tr>\n",
       "      <th>10</th>\n",
       "      <td>1.00</td>\n",
       "      <td>0.75</td>\n",
       "      <td>2.031258e-01</td>\n",
       "    </tr>\n",
       "    <tr>\n",
       "      <th>11</th>\n",
       "      <td>1.00</td>\n",
       "      <td>1.00</td>\n",
       "      <td>1.696308e-01</td>\n",
       "    </tr>\n",
       "    <tr>\n",
       "      <th>12</th>\n",
       "      <td>2.00</td>\n",
       "      <td>0.25</td>\n",
       "      <td>3.265456e-02</td>\n",
       "    </tr>\n",
       "    <tr>\n",
       "      <th>13</th>\n",
       "      <td>2.00</td>\n",
       "      <td>0.50</td>\n",
       "      <td>5.720930e-02</td>\n",
       "    </tr>\n",
       "    <tr>\n",
       "      <th>14</th>\n",
       "      <td>2.00</td>\n",
       "      <td>0.75</td>\n",
       "      <td>7.666994e-02</td>\n",
       "    </tr>\n",
       "    <tr>\n",
       "      <th>15</th>\n",
       "      <td>2.00</td>\n",
       "      <td>1.00</td>\n",
       "      <td>9.837029e-02</td>\n",
       "    </tr>\n",
       "    <tr>\n",
       "      <th>16</th>\n",
       "      <td>3.00</td>\n",
       "      <td>0.25</td>\n",
       "      <td>4.297227e-02</td>\n",
       "    </tr>\n",
       "    <tr>\n",
       "      <th>17</th>\n",
       "      <td>3.00</td>\n",
       "      <td>0.50</td>\n",
       "      <td>6.032464e-02</td>\n",
       "    </tr>\n",
       "    <tr>\n",
       "      <th>18</th>\n",
       "      <td>3.00</td>\n",
       "      <td>0.75</td>\n",
       "      <td>7.507912e-02</td>\n",
       "    </tr>\n",
       "    <tr>\n",
       "      <th>19</th>\n",
       "      <td>3.00</td>\n",
       "      <td>1.00</td>\n",
       "      <td>9.487940e-02</td>\n",
       "    </tr>\n",
       "    <tr>\n",
       "      <th>20</th>\n",
       "      <td>4.00</td>\n",
       "      <td>0.25</td>\n",
       "      <td>3.018864e-02</td>\n",
       "    </tr>\n",
       "    <tr>\n",
       "      <th>21</th>\n",
       "      <td>4.00</td>\n",
       "      <td>0.50</td>\n",
       "      <td>5.233958e-02</td>\n",
       "    </tr>\n",
       "    <tr>\n",
       "      <th>22</th>\n",
       "      <td>4.00</td>\n",
       "      <td>0.75</td>\n",
       "      <td>6.896642e-02</td>\n",
       "    </tr>\n",
       "    <tr>\n",
       "      <th>23</th>\n",
       "      <td>4.00</td>\n",
       "      <td>1.00</td>\n",
       "      <td>8.793409e-02</td>\n",
       "    </tr>\n",
       "  </tbody>\n",
       "</table>\n",
       "</div>"
      ],
      "text/plain": [
       "    train_multiplier  test_multiplier      accuracy\n",
       "0               0.25             0.25  5.535446e-01\n",
       "1               0.25             0.50  9.491868e-01\n",
       "2               0.25             0.75  1.511884e+00\n",
       "3               0.25             1.00  1.652392e+00\n",
       "4               0.50             0.25  2.317274e-01\n",
       "5               0.50             0.50  4.669122e-01\n",
       "6               0.50             0.75  4.582591e-01\n",
       "7               0.50             1.00  3.724417e+41\n",
       "8               1.00             0.25  5.843422e-02\n",
       "9               1.00             0.50  1.104608e-01\n",
       "10              1.00             0.75  2.031258e-01\n",
       "11              1.00             1.00  1.696308e-01\n",
       "12              2.00             0.25  3.265456e-02\n",
       "13              2.00             0.50  5.720930e-02\n",
       "14              2.00             0.75  7.666994e-02\n",
       "15              2.00             1.00  9.837029e-02\n",
       "16              3.00             0.25  4.297227e-02\n",
       "17              3.00             0.50  6.032464e-02\n",
       "18              3.00             0.75  7.507912e-02\n",
       "19              3.00             1.00  9.487940e-02\n",
       "20              4.00             0.25  3.018864e-02\n",
       "21              4.00             0.50  5.233958e-02\n",
       "22              4.00             0.75  6.896642e-02\n",
       "23              4.00             1.00  8.793409e-02"
      ]
     },
     "execution_count": 58,
     "metadata": {},
     "output_type": "execute_result"
    }
   ],
   "source": [
    "aggregated_accuracy"
   ]
  },
  {
   "cell_type": "code",
   "execution_count": 47,
   "metadata": {},
   "outputs": [
    {
     "data": {
      "text/plain": [
       "'{\"block_num\": {\"mape\": 0.0017569166923246875, \"me\": 25393.41641696977, \"mae\": 25393.41641696977, \"mpe\": 0.0017569166923246875, \"rmse\": 25397.711316884455}, \"uniswapv2_usdc_eth\": {\"mape\": 0.04418040867997079, \"me\": -1.4397632190038964e-05, \"mae\": 1.4397632190038964e-05, \"mpe\": -0.04418040867997079, \"rmse\": 1.4964851618726347e-05}, \"uniswapv2_usdt_eth\": {\"mape\": 0.04313646646963099, \"me\": -1.4068284629114696e-05, \"mae\": 1.4068284629114696e-05, \"mpe\": -0.04313646646963099, \"rmse\": 1.463774954750373e-05}, \"uniswapv2_dai_eth\": {\"mape\": 0.043888796445637424, \"me\": -1.3867712712252882e-05, \"mae\": 1.425592053294889e-05, \"mpe\": -0.04236557144897607, \"rmse\": 1.5032027340295827e-05}, \"uniswapv3_usdc_eth\": {\"mape\": 0.04473693762794111, \"me\": -1.4575923661560333e-05, \"mae\": 1.4575923661560333e-05, \"mpe\": -0.04473693762794111, \"rmse\": 1.51282835405038e-05}, \"uniswapv3_usdt_eth\": {\"mape\": 0.04611079495454624, \"me\": -1.5028979663024588e-05, \"mae\": 1.5028979663024588e-05, \"mpe\": -0.04611079495454624, \"rmse\": 1.556704575633423e-05}, \"uniswapv3_dai_eth\": {\"mape\": 0.046059584376788434, \"me\": -1.5010620819213413e-05, \"mae\": 1.5010620819213413e-05, \"mpe\": -0.046059584376788434, \"rmse\": 1.5578591503421234e-05}, \"chainlink_usdc_eth\": {\"mape\": 0.029152757477148773, \"me\": -9.549883764772404e-06, \"mae\": 9.549883764772404e-06, \"mpe\": -0.029152757477148773, \"rmse\": 1.027106412431498e-05}, \"chainlink_usdt_eth\": {\"mape\": 0.04874116308787425, \"me\": -1.5891129561330313e-05, \"mae\": 1.5891129561330313e-05, \"mpe\": -0.04874116308787425, \"rmse\": 1.6280164256898898e-05}, \"chainlink_dai_eth\": {\"mape\": 0.048208093344416, \"me\": -1.5789419388539763e-05, \"mae\": 1.5789419388539763e-05, \"mpe\": -0.048208093344416, \"rmse\": 1.5971454931980884e-05}}'"
      ]
     },
     "execution_count": 47,
     "metadata": {},
     "output_type": "execute_result"
    }
   ],
   "source": [
    "eval_result[0]"
   ]
  }
 ],
 "metadata": {
  "kernelspec": {
   "display_name": "Python 3.8.12 ('test2')",
   "language": "python",
   "name": "python3"
  },
  "language_info": {
   "codemirror_mode": {
    "name": "ipython",
    "version": 3
   },
   "file_extension": ".py",
   "mimetype": "text/x-python",
   "name": "python",
   "nbconvert_exporter": "python",
   "pygments_lexer": "ipython3",
   "version": "3.8.12"
  },
  "orig_nbformat": 4,
  "vscode": {
   "interpreter": {
    "hash": "b0ef27b5998537e6e8a4cc2d81c0ef50c5704a9340d6613576e42e6548a03246"
   }
  }
 },
 "nbformat": 4,
 "nbformat_minor": 2
}
