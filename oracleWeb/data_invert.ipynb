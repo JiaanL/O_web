{
 "cells": [
  {
   "cell_type": "code",
   "execution_count": 1,
   "metadata": {},
   "outputs": [
    {
     "name": "stdout",
     "output_type": "stream",
     "text": [
      "INFO: Pandarallel will run on 8 workers.\n",
      "INFO: Pandarallel will use standard multiprocessing data transfer (pipe) to transfer data between the main process and workers.\n",
      "INFO: Pandarallel will run on 8 workers.\n",
      "INFO: Pandarallel will use standard multiprocessing data transfer (pipe) to transfer data between the main process and workers.\n",
      "INFO: Pandarallel will run on 8 workers.\n",
      "INFO: Pandarallel will use standard multiprocessing data transfer (pipe) to transfer data between the main process and workers.\n",
      "INFO: Pandarallel will run on 8 workers.\n",
      "INFO: Pandarallel will use standard multiprocessing data transfer (pipe) to transfer data between the main process and workers.\n",
      "INFO: Pandarallel will run on 8 workers.\n",
      "INFO: Pandarallel will use standard multiprocessing data transfer (pipe) to transfer data between the main process and workers.\n",
      "INFO: Pandarallel will run on 8 workers.\n",
      "INFO: Pandarallel will use standard multiprocessing data transfer (pipe) to transfer data between the main process and workers.\n",
      "INFO: Pandarallel will run on 8 workers.\n",
      "INFO: Pandarallel will use standard multiprocessing data transfer (pipe) to transfer data between the main process and workers.\n"
     ]
    }
   ],
   "source": [
    "import os\n",
    "import django\n",
    "os.environ.setdefault('DJANGO_SETTINGS_MODULE', 'rest.settings')\n",
    "os.environ[\"DJANGO_ALLOW_ASYNC_UNSAFE\"] = \"true\"\n",
    "django.setup()\n",
    "\n",
    "import pandas as pd\n",
    "import numpy as np\n",
    "import os\n",
    "import django\n",
    "from django.db.models import Max, Min, Avg, Q, F\n",
    "from asgiref.sync import sync_to_async\n",
    "import tqdm\n",
    "from collections import defaultdict\n",
    "from pandarallel import pandarallel\n",
    "import requests\n",
    "import json\n",
    "from matplotlib import pyplot as plt\n",
    "\n",
    "import ctypes\n",
    "from ctypes import c_char_p, cdll\n",
    "GoInt64 = ctypes.c_int64\n",
    "GoInt = GoInt64\n",
    "archive_node = \"http://localhost:19545\"\n",
    "\n",
    "from etherscan.utils.parsing import ResponseParser as parser\n",
    "pandarallel.initialize(progress_bar=True)\n",
    "# os.environ.setdefault('DJANGO_SETTINGS_MODULE', 'rest.settings')\n",
    "# os.environ[\"DJANGO_ALLOW_ASYNC_UNSAFE\"] = \"true\"\n",
    "# django.setup()\n",
    "\n",
    "from debtmonitor.models import *\n",
    "from datavisualization.models import *\n",
    "from datastorage.models import *\n",
    "from debtmonitor.help_function import *\n",
    "\n",
    "import debtmonitor.views as dm\n",
    "import datavisualization.views as dv\n",
    "import datastorage.views as ds\n",
    "import oracleWeb.views as ow\n",
    "\n",
    "from debtmonitor.debt_function import *\n",
    "\n",
    "import pickle\n",
    "\n",
    "pandarallel.initialize(progress_bar=True)"
   ]
  },
  {
   "cell_type": "code",
   "execution_count": 23,
   "metadata": {},
   "outputs": [
    {
     "data": {
      "text/plain": [
       "<TokenPair: TokenPair object (28)>"
      ]
     },
     "execution_count": 23,
     "metadata": {},
     "output_type": "execute_result"
    }
   ],
   "source": [
    "oracle = Oracle.objects.get(name='uniswapv3')\n",
    "token_pair = TokenPair.objects.filter(oracle=oracle).filter(token0='usdc').filter(token1='eth').all()[0]\n",
    "token_pair\n",
    "# Price.objects.filter()"
   ]
  },
  {
   "cell_type": "code",
   "execution_count": 24,
   "metadata": {},
   "outputs": [
    {
     "data": {
      "text/plain": [
       "<QuerySet []>"
      ]
     },
     "execution_count": 24,
     "metadata": {},
     "output_type": "execute_result"
    }
   ],
   "source": [
    "Price.objects.filter(token_pair=token_pair).all()"
   ]
  },
  {
   "cell_type": "code",
   "execution_count": 21,
   "metadata": {},
   "outputs": [
    {
     "data": {
      "text/plain": [
       "('usdc', 'eth', 'uniswapv3')"
      ]
     },
     "execution_count": 21,
     "metadata": {},
     "output_type": "execute_result"
    }
   ],
   "source": [
    "token_pair.token0, token_pair.token1, token_pair.oracle.name"
   ]
  },
  {
   "cell_type": "code",
   "execution_count": 27,
   "metadata": {},
   "outputs": [
    {
     "data": {
      "text/plain": [
       "12566946"
      ]
     },
     "execution_count": 27,
     "metadata": {},
     "output_type": "execute_result"
    }
   ],
   "source": [
    "BlockPriceUpdateRecord.objects.get(token_pair=token_pair).max_block_number"
   ]
  },
  {
   "cell_type": "code",
   "execution_count": null,
   "metadata": {},
   "outputs": [],
   "source": []
  }
 ],
 "metadata": {
  "kernelspec": {
   "display_name": "Django Shell-Plus",
   "language": "python",
   "name": "django_extensions"
  },
  "language_info": {
   "codemirror_mode": {
    "name": "ipython",
    "version": 3
   },
   "file_extension": ".py",
   "mimetype": "text/x-python",
   "name": "python",
   "nbconvert_exporter": "python",
   "pygments_lexer": "ipython3",
   "version": "3.8.12"
  },
  "orig_nbformat": 4,
  "vscode": {
   "interpreter": {
    "hash": "b0ef27b5998537e6e8a4cc2d81c0ef50c5704a9340d6613576e42e6548a03246"
   }
  }
 },
 "nbformat": 4,
 "nbformat_minor": 2
}
